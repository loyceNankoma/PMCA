{
  "cells": [
    {
      "cell_type": "markdown",
      "metadata": {
        "id": "view-in-github",
        "colab_type": "text"
      },
      "source": [
        "<a href=\"https://colab.research.google.com/github/loyceNankoma/PMCA/blob/main/Loyce_Workshop_1_Module_1_Interactive_cloud_computing_with_Google_Colaboratory_2022_03_03.ipynb\" target=\"_parent\"><img src=\"https://colab.research.google.com/assets/colab-badge.svg\" alt=\"Open In Colab\"/></a>"
      ]
    },
    {
      "cell_type": "markdown",
      "metadata": {
        "id": "09zg9pLwb_Mo"
      },
      "source": [
        "![banner](https://github.com/anopheles-genomic-surveillance/anopheles-genomic-surveillance.github.io/blob/master/docs/banner.jpg?raw=1)\n",
        "\n",
        "***[Workshop 1](about) - Training course in data analysis for genomic surveillance of African malaria vectors***\n",
        "\n",
        "---"
      ]
    },
    {
      "cell_type": "markdown",
      "metadata": {
        "id": "QPvqgYQHAfKF"
      },
      "source": [
        "# Module 1 - Interactive cloud computing with Google Colaboratory\n",
        "\n",
        "**Theme: Tools & Technology**\n",
        "\n",
        "This first technology module introduces Google Colaboratory (a.k.a. Colab), an interactive cloud computing service for data analysis, which we will be using for practical exercises throughout the course."
      ]
    },
    {
      "cell_type": "markdown",
      "metadata": {
        "id": "TOnaa1RkDDIB"
      },
      "source": [
        "## Learning objectives\n",
        "\n",
        "After completing this module, you will be able to:\n",
        "\n",
        "* Explain what colab is\n",
        "* Explain what a notebook is\n",
        "* Access Colab and use it to create and run notebooks\n",
        "* Edit notebooks and create code and text cells\n",
        "* Be familiar with some basic coding in Python\n",
        "* Import and install packages\n",
        "* Share Colab notebooks via Google Drive"
      ]
    },
    {
      "cell_type": "markdown",
      "metadata": {
        "id": "-JKyzOkc6xBI"
      },
      "source": [
        "## Lecture"
      ]
    },
    {
      "cell_type": "markdown",
      "metadata": {
        "id": "lVcQYAO56xBJ"
      },
      "source": [
        "### English"
      ]
    },
    {
      "cell_type": "code",
      "execution_count": null,
      "metadata": {
        "colab": {
          "base_uri": "https://localhost:8080/",
          "height": 336
        },
        "id": "PAdLd3lB6xBL",
        "outputId": "3a466421-43cd-46f3-99e0-7dcbcd2878b5",
        "tags": [
          "remove-input"
        ]
      },
      "outputs": [
        {
          "data": {
            "text/html": [
              "<iframe width=\"560\" height=\"315\" src=\"https://www.youtube.com/embed/99PEyyJFzZ4\" title=\"YouTube video player\" frameborder=\"0\" allow=\"accelerometer; autoplay; clipboard-write; encrypted-media; gyroscope; picture-in-picture\" allowfullscreen></iframe>\n"
            ],
            "text/plain": [
              "<IPython.core.display.HTML object>"
            ]
          },
          "metadata": {},
          "output_type": "display_data"
        }
      ],
      "source": [
        "%%html\n",
        "<iframe width=\"560\" height=\"315\" src=\"https://www.youtube.com/embed/99PEyyJFzZ4\" title=\"YouTube video player\" frameborder=\"0\" allow=\"accelerometer; autoplay; clipboard-write; encrypted-media; gyroscope; picture-in-picture\" allowfullscreen></iframe>"
      ]
    },
    {
      "cell_type": "markdown",
      "metadata": {
        "id": "_DiEDV6K6xBQ"
      },
      "source": [
        "### Français"
      ]
    },
    {
      "cell_type": "code",
      "execution_count": null,
      "metadata": {
        "colab": {
          "base_uri": "https://localhost:8080/",
          "height": 336
        },
        "id": "8s3zGws66xBS",
        "outputId": "8ff372a0-818c-4f9e-e96c-fe2a9e8de1ab",
        "scrolled": true,
        "tags": [
          "remove-input"
        ]
      },
      "outputs": [
        {
          "data": {
            "text/html": [
              "<iframe width=\"560\" height=\"315\" src=\"https://www.youtube.com/embed/QlgcbjrVUHs\" title=\"YouTube video player\" frameborder=\"0\" allow=\"accelerometer; autoplay; clipboard-write; encrypted-media; gyroscope; picture-in-picture\" allowfullscreen></iframe>\n"
            ],
            "text/plain": [
              "<IPython.core.display.HTML object>"
            ]
          },
          "metadata": {},
          "output_type": "display_data"
        }
      ],
      "source": [
        "%%html\n",
        "<iframe width=\"560\" height=\"315\" src=\"https://www.youtube.com/embed/QlgcbjrVUHs\" title=\"YouTube video player\" frameborder=\"0\" allow=\"accelerometer; autoplay; clipboard-write; encrypted-media; gyroscope; picture-in-picture\" allowfullscreen></iframe>"
      ]
    },
    {
      "cell_type": "markdown",
      "metadata": {
        "id": "t0Qm0hHubMH8"
      },
      "source": [
        "Please note that the code in the cells below might differ from that shown in the video. This can happen because Python packages and their dependencies change due to updates, necessitating tweaks to the code."
      ]
    },
    {
      "cell_type": "markdown",
      "metadata": {
        "id": "FFwdnsOSD_hI"
      },
      "source": [
        "## What is Colab?\n",
        "\n",
        "Colab is an interactive cloud computing service provided for free by Google. To access Colab, visit the following address in your Web browser:\n",
        "\n",
        "* [https://colab.research.google.com](https://colab.research.google.com)\n",
        "\n",
        "To access Colab you will need a Google account. If you don't already have one, [create an account](https://accounts.google.com/SignUp) and then log in.\n",
        "\n",
        "Colab allows you to write and execute code using your Web browser. There are two important features of Colab that are very useful for data analysis:\n",
        "\n",
        "* **Interactive notebooks** - You can explore and analyse data one step at a time, by writing small pieces of code, running them, inspecting the results, and then writing further code.\n",
        "* **Cloud computing** - You can get access to computers hosted by Google and use them to run your code, without having to install any software or download any data onto your own computer.  "
      ]
    },
    {
      "cell_type": "markdown",
      "metadata": {
        "id": "JpsZnq9mDsTw"
      },
      "source": [
        "## What is a notebook?\n",
        "\n",
        "A notebook is an interactive, editable document that you can use to:\n",
        "\n",
        "* Write and execute code\n",
        "* Create plots, tables, written text and other types of content\n",
        "\n",
        "A notebook is built up from **cells**. There are two main types of cells in a notebook: **code cells** and **text cells**.\n"
      ]
    },
    {
      "cell_type": "markdown",
      "metadata": {
        "id": "Ge_jS8PZJTEK"
      },
      "source": [
        "## Code cells\n",
        "\n",
        "A code cell contains [Python code](https://www.python.org/). To add a code cell to your notebook, click the **`+ Code`** button at the top of the notebook.\n",
        "\n",
        "Below is an example code cell."
      ]
    },
    {
      "cell_type": "code",
      "execution_count": 1,
      "metadata": {
        "colab": {
          "base_uri": "https://localhost:8080/"
        },
        "id": "sTPWWaGdECK_",
        "outputId": "ce5b65b8-77c2-4228-e83c-3f970cf65e9e"
      },
      "outputs": [
        {
          "output_type": "stream",
          "name": "stdout",
          "text": [
            "Hello world!\n"
          ]
        }
      ],
      "source": [
        "print(\"Hello world!\")"
      ]
    },
    {
      "cell_type": "markdown",
      "metadata": {
        "id": "2rNDe9sEJia5"
      },
      "source": [
        "### Executing a code cell\n",
        "\n",
        "To execute a code cell, click on the **play icon** next to the cell. You can also type **Shift+Enter**, which will run the cell and move the focus to the next cell."
      ]
    },
    {
      "cell_type": "markdown",
      "metadata": {
        "id": "Q5DwRnvNKvRQ"
      },
      "source": [
        "### Cell output\n",
        "\n",
        "The code cell above uses the built-in `print` function, which prints the string `\"Hello world!\"` as output. If a code cell generates some output when it is run, the output is displayed below the cell.\n",
        "\n",
        "Cells do not always have output. For example, the code cell below declares a variable named `foo` and assigns the integer value `42`, but does not create an output."
      ]
    },
    {
      "cell_type": "code",
      "execution_count": 3,
      "metadata": {
        "id": "rh-0eJ5WKRAo"
      },
      "outputs": [],
      "source": [
        "foo = 42"
      ]
    },
    {
      "cell_type": "markdown",
      "metadata": {
        "id": "-mvUD8sYKnly"
      },
      "source": [
        "### Inspecting a variable\n",
        "\n",
        "If you have declared a variable, such as `foo` in the code cell above, and you want to inspect its value, you can do this by writing a code cell where the variable is written on the last line."
      ]
    },
    {
      "cell_type": "code",
      "execution_count": 4,
      "metadata": {
        "colab": {
          "base_uri": "https://localhost:8080/"
        },
        "id": "ClhJT3ZaK8jr",
        "outputId": "51388b24-b51e-45be-bd49-741c0b639fc1"
      },
      "outputs": [
        {
          "output_type": "execute_result",
          "data": {
            "text/plain": [
              "42"
            ]
          },
          "metadata": {},
          "execution_count": 4
        }
      ],
      "source": [
        "foo"
      ]
    },
    {
      "cell_type": "markdown",
      "metadata": {
        "id": "85ZduRtCK9ta"
      },
      "source": [
        "Running this code cell will print the value of the variable as the cell output. Let's try modifying this variable, and inspecting it again."
      ]
    },
    {
      "cell_type": "code",
      "execution_count": 5,
      "metadata": {
        "colab": {
          "base_uri": "https://localhost:8080/"
        },
        "id": "3dUmVSxyLGP_",
        "outputId": "4c6fe7ad-e0c0-43ad-eed9-9172bf46782e"
      },
      "outputs": [
        {
          "output_type": "execute_result",
          "data": {
            "text/plain": [
              "43"
            ]
          },
          "metadata": {},
          "execution_count": 5
        }
      ],
      "source": [
        "foo = foo + 1\n",
        "foo"
      ]
    },
    {
      "cell_type": "markdown",
      "metadata": {
        "id": "6Z3vIIfLhY3u"
      },
      "source": [
        "It can also sometimes be useful to use the built-in `type()` function inspect what type of object has been assigned to a variable, e.g.:"
      ]
    },
    {
      "cell_type": "code",
      "execution_count": 6,
      "metadata": {
        "colab": {
          "base_uri": "https://localhost:8080/"
        },
        "id": "LramF1Wohebd",
        "outputId": "30618363-7de4-42af-ff1c-5332efae9de9"
      },
      "outputs": [
        {
          "output_type": "execute_result",
          "data": {
            "text/plain": [
              "int"
            ]
          },
          "metadata": {},
          "execution_count": 6
        }
      ],
      "source": [
        "type(foo)"
      ]
    },
    {
      "cell_type": "markdown",
      "metadata": {
        "id": "Q3swoV1CLLrT"
      },
      "source": [
        "## Text cells\n",
        "\n",
        "As well as code cells, you can also create text cells, which create text that you write, and can use different types of text formatting such as bold, italic, indented lists, hyperlinks and mathematical equations.\n",
        "\n",
        "To add a text cell to your notebook, click the **`+ Text`** button at the top of the notebook.\n",
        "\n",
        "To edit an existing text cell in a notebook, **double click** on the cell."
      ]
    },
    {
      "cell_type": "markdown",
      "metadata": {
        "id": "pPNPia5xNApP"
      },
      "source": [
        "### Formatting text\n",
        "\n",
        "Text cells can be formatted using a special syntax called **markdown**.\n",
        "\n",
        "Here is a quick summary of some useful markdown syntax for formatting text:\n",
        "\n",
        "Markdown syntax | Preview\n",
        "--- | ---\n",
        "`**bold text**` | **bold text**\n",
        "`*italicized text*` | *italicized text*\n",
        "`` `monospace text` `` | `Monospace`\n",
        "`[A link](https://en.wikipedia.org/wiki/Anopheles_gambiae)` | [A link](https://en.wikipedia.org/wiki/Anopheles_gambiae)"
      ]
    },
    {
      "cell_type": "markdown",
      "metadata": {
        "id": "ybXp7jCDOt98"
      },
      "source": [
        "\n",
        "### Creating lists\n",
        "\n",
        "Unordered lists can be created by putting each list item on a new line, starting with the `*` character, e.g.:\n",
        "\n",
        "```\n",
        "* A list item\n",
        "* Another list item\n",
        "* Yet another list item\n",
        "```\n",
        "\n",
        "Ordered lists can be created by starting each list item with `1.`, e.g.:\n",
        "\n",
        "```\n",
        "1. First item\n",
        "1. Second item\n",
        "1. Third item\n",
        "```"
      ]
    },
    {
      "cell_type": "markdown",
      "metadata": {
        "id": "szC-JV13OwpH"
      },
      "source": [
        "### Creating section headings\n",
        "\n",
        "To create a section heading within a notebook, begin a line of text with the `#` character. E.g.:\n",
        "\n",
        "```\n",
        "# This is a section heading\n",
        "```\n",
        "\n",
        "To create a sub-section heading, begin a line of text with `##`, E.g.:\n",
        "\n",
        "```\n",
        "## This is a sub-section heading\n",
        "```"
      ]
    },
    {
      "cell_type": "markdown",
      "metadata": {
        "id": "yecbLv7WNzvv"
      },
      "source": [
        "### Adding images\n",
        "\n",
        "You can include an image in a notebook, if the image is published on the Web and you know it's address. E.g., the markdown syntax below includes an image of an *Anopheles gambiae* mosquito available from [wikipedia](https://commons.wikimedia.org/wiki/File:AnophelesGambiaemosquito.jpg):\n",
        "\n",
        "```\n",
        "![Anopheles gambiae](https://upload.wikimedia.org/wikipedia/commons/0/0a/AnophelesGambiaemosquito.jpg)\n",
        "```\n",
        "\n",
        "Here is the image as it will appear in the notebook:\n",
        "\n",
        "![Anopheles gambiae](https://upload.wikimedia.org/wikipedia/commons/0/0a/AnophelesGambiaemosquito.jpg)\n"
      ]
    },
    {
      "cell_type": "markdown",
      "metadata": {
        "id": "wA7GGyY7QMVp"
      },
      "source": [
        "## Adding, moving and deleting cells\n",
        "\n",
        "A new cell can be added by using the **`+ Code`** and **`+ Text`** at the top of the notebook, or that show when you hover between cells.\n",
        "\n",
        "Cells can be moved within the notebook by clicking on the **up and down arrows** in the cell toolbar.\n",
        "\n",
        "A cell can be deleted by clicking the **dustbin icon** within the cell toolbar."
      ]
    },
    {
      "cell_type": "markdown",
      "metadata": {
        "id": "Pgh6vPWzhfsk"
      },
      "source": [
        "## Coding basics\n",
        "\n",
        "Here are a few examples of things you can do using Python code. For this course we don't expect you to be an experienced coder, but some familiarity with features like arithmetic, for loops and functions will be useful."
      ]
    },
    {
      "cell_type": "markdown",
      "metadata": {
        "id": "xQ71d_d4dvk2"
      },
      "source": [
        "### Math\n",
        "\n",
        "You can do arithmetic."
      ]
    },
    {
      "cell_type": "code",
      "execution_count": 7,
      "metadata": {
        "colab": {
          "base_uri": "https://localhost:8080/"
        },
        "id": "pwsHi0Hod_AV",
        "outputId": "c725ae26-1418-4e14-bd7a-8b3afd65001d"
      },
      "outputs": [
        {
          "output_type": "execute_result",
          "data": {
            "text/plain": [
              "42"
            ]
          },
          "metadata": {},
          "execution_count": 7
        }
      ],
      "source": [
        "x = 10\n",
        "y = 3 + (4 * x) - 1\n",
        "y"
      ]
    },
    {
      "cell_type": "markdown",
      "metadata": {
        "id": "xCw8S3HMeRMR"
      },
      "source": [
        "### For loops\n",
        "\n",
        "You can use a for loop to iterate over a sequence of values. E.g., you can iterative over a sequence of numbers using a for loop together with the built-in [`range()` function](https://docs.python.org/3.7/library/stdtypes.html#typesseq-range)."
      ]
    },
    {
      "cell_type": "code",
      "execution_count": null,
      "metadata": {
        "colab": {
          "base_uri": "https://localhost:8080/"
        },
        "id": "dq79jxwjeSzx",
        "outputId": "98977a8c-3cad-4789-ca1d-c4b4042ee868"
      },
      "outputs": [
        {
          "name": "stdout",
          "output_type": "stream",
          "text": [
            "0\n",
            "1\n",
            "2\n",
            "3\n",
            "4\n"
          ]
        }
      ],
      "source": [
        "for i in range(5):\n",
        "    print(i)"
      ]
    },
    {
      "cell_type": "markdown",
      "metadata": {
        "id": "uRJQN0B_dq9K"
      },
      "source": [
        "### Defining and calling functions\n",
        "\n",
        "You can organise your code into functions with parameters. E.g., here we define a function `greet()` with a single parameter `name`."
      ]
    },
    {
      "cell_type": "code",
      "execution_count": null,
      "metadata": {
        "id": "Jlc1NDFmdRiA"
      },
      "outputs": [],
      "source": [
        "def greet(name):\n",
        "    print(f\"Hello {name}!\")"
      ]
    },
    {
      "cell_type": "markdown",
      "metadata": {
        "id": "EN0NnIZM6xBm"
      },
      "source": [
        "You can then call the function with different parameter values."
      ]
    },
    {
      "cell_type": "code",
      "execution_count": null,
      "metadata": {
        "colab": {
          "base_uri": "https://localhost:8080/"
        },
        "id": "2lRMGm6NdYen",
        "outputId": "cf13253e-38dc-4467-accf-34d4d175e4f7"
      },
      "outputs": [
        {
          "name": "stdout",
          "output_type": "stream",
          "text": [
            "Hello Mario Coluzzi!\n"
          ]
        }
      ],
      "source": [
        "greet(\"Mario Coluzzi\")"
      ]
    },
    {
      "cell_type": "code",
      "execution_count": null,
      "metadata": {
        "colab": {
          "base_uri": "https://localhost:8080/"
        },
        "id": "mRJj59rG6xBn",
        "outputId": "2d7ffdc1-3276-48ab-f27b-8c9ed506ffd6"
      },
      "outputs": [
        {
          "name": "stdout",
          "output_type": "stream",
          "text": [
            "Hello Ronald Ross!\n"
          ]
        }
      ],
      "source": [
        "greet(\"Ronald Ross\")"
      ]
    },
    {
      "cell_type": "markdown",
      "metadata": {
        "id": "bwAxxpvYRDKw"
      },
      "source": [
        "## Importing and installing Python packages\n",
        "\n",
        "Python packages are collections of functions that other people have already created, and which you can import into your notebook and use.\n",
        "\n",
        "There are some functions which are \"built-in\" to Python, like the `print()` and `range()` functions we've already seen, which are always available and you don't need to import.\n",
        "\n",
        "There are a lot more functions available as part of the [Python standard library](https://docs.python.org/3.7/library/), which will already be installed, but you do need to import them before you can use them.\n",
        "\n",
        "There are loads more functions available through \"third-party packages\" which are packages provided by other developers in the Python community. E.g., a very useful package for numerical computing is [NumPy](https://numpy.org/). On colab, numpy is already installed, and so you can just import it. By convention we abbreviate \"numpy\" to \"np\" just to reduce the amount of typing we have to do."
      ]
    },
    {
      "cell_type": "code",
      "execution_count": 1,
      "metadata": {
        "id": "5kq8iET8ewpe"
      },
      "outputs": [],
      "source": [
        "import numpy as np"
      ]
    },
    {
      "cell_type": "markdown",
      "metadata": {
        "id": "OTqJmw3D6xBp"
      },
      "source": [
        "Now that we've imported NumPy we can call functions. E.g., let's generate some random numbers using the [np.random.randint()](https://numpy.org/doc/stable/reference/random/generated/numpy.random.randint.html) function."
      ]
    },
    {
      "cell_type": "code",
      "execution_count": 2,
      "metadata": {
        "colab": {
          "base_uri": "https://localhost:8080/"
        },
        "id": "udVhR9jJfJTW",
        "outputId": "8bcc66a6-42fa-4681-8713-934d68ff49bc"
      },
      "outputs": [
        {
          "output_type": "execute_result",
          "data": {
            "text/plain": [
              "array([ 0, 25, 31, 65, 43, 10, 33, 65, 31, 43])"
            ]
          },
          "metadata": {},
          "execution_count": 2
        }
      ],
      "source": [
        "y = np.random.randint(low=0, high=100, size=10)\n",
        "y"
      ]
    },
    {
      "cell_type": "markdown",
      "metadata": {
        "id": "c0STeqKU6xBp"
      },
      "source": [
        "Some third-party packages are not pre-installed on colab, and so you need to install them. Installing packages can be done with the special `!pip` command. E.g., let's installed the [malariagen_data](https://github.com/malariagen/malariagen-data-python) package."
      ]
    },
    {
      "cell_type": "code",
      "execution_count": 3,
      "metadata": {
        "id": "u_38N9g4I6jF",
        "colab": {
          "base_uri": "https://localhost:8080/"
        },
        "outputId": "32c2582c-84d9-448b-cd34-717e62c903c4"
      },
      "outputs": [
        {
          "output_type": "stream",
          "name": "stdout",
          "text": [
            "\u001b[2K     \u001b[90m━━━━━━━━━━━━━━━━━━━━━━━━━━━━━━━━━━━━━━━\u001b[0m \u001b[32m133.2/133.2 kB\u001b[0m \u001b[31m3.3 MB/s\u001b[0m eta \u001b[36m0:00:00\u001b[0m\n",
            "\u001b[2K     \u001b[90m━━━━━━━━━━━━━━━━━━━━━━━━━━━━━━━━━━━━━━━━\u001b[0m \u001b[32m3.1/3.1 MB\u001b[0m \u001b[31m15.0 MB/s\u001b[0m eta \u001b[36m0:00:00\u001b[0m\n",
            "\u001b[2K     \u001b[90m━━━━━━━━━━━━━━━━━━━━━━━━━━━━━━━━━━━━━━━━\u001b[0m \u001b[32m10.4/10.4 MB\u001b[0m \u001b[31m43.0 MB/s\u001b[0m eta \u001b[36m0:00:00\u001b[0m\n",
            "\u001b[2K     \u001b[90m━━━━━━━━━━━━━━━━━━━━━━━━━━━━━━━━━━━━━━━━\u001b[0m \u001b[32m3.6/3.6 MB\u001b[0m \u001b[31m65.4 MB/s\u001b[0m eta \u001b[36m0:00:00\u001b[0m\n",
            "\u001b[2K     \u001b[90m━━━━━━━━━━━━━━━━━━━━━━━━━━━━━━━━━━━━━━\u001b[0m \u001b[32m302.5/302.5 kB\u001b[0m \u001b[31m32.6 MB/s\u001b[0m eta \u001b[36m0:00:00\u001b[0m\n",
            "\u001b[2K     \u001b[90m━━━━━━━━━━━━━━━━━━━━━━━━━━━━━━━━━━━━━━━━\u001b[0m \u001b[32m3.4/3.4 MB\u001b[0m \u001b[31m84.6 MB/s\u001b[0m eta \u001b[36m0:00:00\u001b[0m\n",
            "\u001b[2K     \u001b[90m━━━━━━━━━━━━━━━━━━━━━━━━━━━━━━━━━━━━━━\u001b[0m \u001b[32m140.3/140.3 kB\u001b[0m \u001b[31m13.2 MB/s\u001b[0m eta \u001b[36m0:00:00\u001b[0m\n",
            "\u001b[2K     \u001b[90m━━━━━━━━━━━━━━━━━━━━━━━━━━━━━━━━━━━━━━━━\u001b[0m \u001b[32m20.9/20.9 MB\u001b[0m \u001b[31m27.2 MB/s\u001b[0m eta \u001b[36m0:00:00\u001b[0m\n",
            "\u001b[2K     \u001b[90m━━━━━━━━━━━━━━━━━━━━━━━━━━━━━━━━━━━━━━━━\u001b[0m \u001b[32m7.4/7.4 MB\u001b[0m \u001b[31m74.9 MB/s\u001b[0m eta \u001b[36m0:00:00\u001b[0m\n",
            "\u001b[2K     \u001b[90m━━━━━━━━━━━━━━━━━━━━━━━━━━━━━━━━━━━━━━\u001b[0m \u001b[32m206.5/206.5 kB\u001b[0m \u001b[31m19.7 MB/s\u001b[0m eta \u001b[36m0:00:00\u001b[0m\n",
            "\u001b[2K     \u001b[90m━━━━━━━━━━━━━━━━━━━━━━━━━━━━━━━━━━━━━━\u001b[0m \u001b[32m233.6/233.6 kB\u001b[0m \u001b[31m20.7 MB/s\u001b[0m eta \u001b[36m0:00:00\u001b[0m\n",
            "\u001b[?25h  Preparing metadata (setup.py) ... \u001b[?25l\u001b[?25hdone\n",
            "\u001b[2K     \u001b[90m━━━━━━━━━━━━━━━━━━━━━━━━━━━━━━━━━━━━━━━━\u001b[0m \u001b[32m6.7/6.7 MB\u001b[0m \u001b[31m101.2 MB/s\u001b[0m eta \u001b[36m0:00:00\u001b[0m\n",
            "\u001b[2K     \u001b[90m━━━━━━━━━━━━━━━━━━━━━━━━━━━━━━━━━━━━━━━━\u001b[0m \u001b[32m1.6/1.6 MB\u001b[0m \u001b[31m79.3 MB/s\u001b[0m eta \u001b[36m0:00:00\u001b[0m\n",
            "\u001b[?25h  Building wheel for asciitree (setup.py) ... \u001b[?25l\u001b[?25hdone\n"
          ]
        }
      ],
      "source": [
        "!pip install -q --no-warn-conflicts malariagen_data"
      ]
    },
    {
      "cell_type": "markdown",
      "metadata": {
        "id": "Tror3nEM6xBq"
      },
      "source": [
        "Once it's installed, we can import it like we did for numpy."
      ]
    },
    {
      "cell_type": "code",
      "execution_count": 4,
      "metadata": {
        "id": "ZhGji1ZygB_9"
      },
      "outputs": [],
      "source": [
        "import malariagen_data"
      ]
    },
    {
      "cell_type": "markdown",
      "metadata": {
        "id": "OhNexc5i6xBq"
      },
      "source": [
        "And we can start using the package to set up access to some data."
      ]
    },
    {
      "cell_type": "code",
      "execution_count": 5,
      "metadata": {
        "colab": {
          "base_uri": "https://localhost:8080/",
          "height": 233
        },
        "id": "-GGTroWDgHuQ",
        "outputId": "b9a214d6-e6ed-4bd2-e030-bb2611fc0438"
      },
      "outputs": [
        {
          "output_type": "execute_result",
          "data": {
            "text/plain": [
              "<MalariaGEN Ag3 API client>\n",
              "Storage URL             : gs://vo_agam_release/\n",
              "Data releases available : 3.0\n",
              "Results cache           : None\n",
              "Cohorts analysis        : 20230516\n",
              "AIM analysis            : 20220528\n",
              "Site filters analysis   : dt_20200416\n",
              "Software version        : malariagen_data 7.13.0\n",
              "Client location         : Nevada, US\n",
              "---\n",
              "Please note that data are subject to terms of use,\n",
              "for more information see https://www.malariagen.net/data\n",
              "or contact data@malariagen.net. For API documentation see \n",
              "https://malariagen.github.io/vector-data/ag3/api.html"
            ],
            "text/html": [
              "\n",
              "            <table class=\"malariagen-ag3\">\n",
              "                <thead>\n",
              "                    <tr>\n",
              "                        <th style=\"text-align: left\" colspan=\"2\">MalariaGEN Ag3 API client</th>\n",
              "                    </tr>\n",
              "                    <tr><td colspan=\"2\" style=\"text-align: left\">\n",
              "                        Please note that data are subject to terms of use,\n",
              "                        for more information see <a href=\"https://www.malariagen.net/data\">\n",
              "                        the MalariaGEN website</a> or contact data@malariagen.net.\n",
              "                        See also the <a href=\"https://malariagen.github.io/vector-data/ag3/api.html\">Ag3 API docs</a>.\n",
              "                    </td></tr>\n",
              "                </thead>\n",
              "                <tbody>\n",
              "                    <tr>\n",
              "                        <th style=\"text-align: left\">\n",
              "                            Storage URL\n",
              "                        </th>\n",
              "                        <td>gs://vo_agam_release/</td>\n",
              "                    </tr>\n",
              "                    <tr>\n",
              "                        <th style=\"text-align: left\">\n",
              "                            Data releases available\n",
              "                        </th>\n",
              "                        <td>3.0</td>\n",
              "                    </tr>\n",
              "                    <tr>\n",
              "                        <th style=\"text-align: left\">\n",
              "                            Results cache\n",
              "                        </th>\n",
              "                        <td>None</td>\n",
              "                    </tr>\n",
              "                    <tr>\n",
              "                        <th style=\"text-align: left\">\n",
              "                            Cohorts analysis\n",
              "                        </th>\n",
              "                        <td>20230516</td>\n",
              "                    </tr>\n",
              "                    <tr>\n",
              "                        <th style=\"text-align: left\">\n",
              "                            AIM analysis\n",
              "                        </th>\n",
              "                        <td>20220528</td>\n",
              "                    </tr>\n",
              "                    <tr>\n",
              "                        <th style=\"text-align: left\">\n",
              "                            Site filters analysis\n",
              "                        </th>\n",
              "                        <td>dt_20200416</td>\n",
              "                    </tr>\n",
              "                    <tr>\n",
              "                        <th style=\"text-align: left\">\n",
              "                            Software version\n",
              "                        </th>\n",
              "                        <td>malariagen_data 7.13.0</td>\n",
              "                    </tr>\n",
              "                    <tr>\n",
              "                        <th style=\"text-align: left\">\n",
              "                            Client location\n",
              "                        </th>\n",
              "                        <td>Nevada, US</td>\n",
              "                    </tr>\n",
              "                </tbody>\n",
              "            </table>\n",
              "        "
            ]
          },
          "metadata": {},
          "execution_count": 5
        }
      ],
      "source": [
        "ag3 = malariagen_data.Ag3()\n",
        "ag3"
      ]
    },
    {
      "cell_type": "markdown",
      "metadata": {
        "id": "5pqoYxbLS2qQ"
      },
      "source": [
        "## Viewing dataframes\n",
        "\n",
        "Often when analysing data you will work with [pandas DataFrames](https://pandas.pydata.org/pandas-docs/stable/user_guide/dsintro.html#dataframe), which are tables of data organised into rows and columns. We will look at DataFrames in more detail later in the course, but for now it's useful to know that you can get a preview of the data in a DataFrame.\n",
        "\n",
        "E.g., if we call the `sample_metadata()` function below, this returns a DataFrame."
      ]
    },
    {
      "cell_type": "code",
      "execution_count": 6,
      "metadata": {
        "id": "lI6zJymMgNA_"
      },
      "outputs": [],
      "source": [
        "df_samples = ag3.sample_metadata(sample_sets=\"3.0\")"
      ]
    },
    {
      "cell_type": "code",
      "execution_count": 7,
      "metadata": {
        "colab": {
          "base_uri": "https://localhost:8080/"
        },
        "id": "Ies8k2f-hNfa",
        "outputId": "d9535857-ed35-4d07-a774-8a387aa6a41e"
      },
      "outputs": [
        {
          "output_type": "execute_result",
          "data": {
            "text/plain": [
              "pandas.core.frame.DataFrame"
            ]
          },
          "metadata": {},
          "execution_count": 7
        }
      ],
      "source": [
        "type(df_samples)"
      ]
    },
    {
      "cell_type": "markdown",
      "metadata": {
        "id": "iDir_Rfk6xBs"
      },
      "source": [
        "If we now inspect the value of this variable, we get a preview of the data in the DataFrame, showing the first five rows and the last five rows."
      ]
    },
    {
      "cell_type": "code",
      "execution_count": 8,
      "metadata": {
        "colab": {
          "base_uri": "https://localhost:8080/",
          "height": 661
        },
        "id": "ceEI6R2EhQHd",
        "outputId": "0b6d2063-559d-4c09-da97-0ef486288882"
      },
      "outputs": [
        {
          "output_type": "execute_result",
          "data": {
            "text/plain": [
              "     sample_id partner_sample_id      contributor    country location  year  \\\n",
              "0     AR0047-C            LUA047       Joao Pinto     Angola   Luanda  2009   \n",
              "1     AR0049-C            LUA049       Joao Pinto     Angola   Luanda  2009   \n",
              "2     AR0051-C            LUA051       Joao Pinto     Angola   Luanda  2009   \n",
              "3     AR0061-C            LUA061       Joao Pinto     Angola   Luanda  2009   \n",
              "4     AR0078-C            LUA078       Joao Pinto     Angola   Luanda  2009   \n",
              "...        ...               ...              ...        ...      ...   ...   \n",
              "3076  AD0494-C         80-2-o-16  Martin Donnelly  Lab Cross     LSTM    -1   \n",
              "3077  AD0495-C         80-2-o-17  Martin Donnelly  Lab Cross     LSTM    -1   \n",
              "3078  AD0496-C         80-2-o-18  Martin Donnelly  Lab Cross     LSTM    -1   \n",
              "3079  AD0497-C         80-2-o-19  Martin Donnelly  Lab Cross     LSTM    -1   \n",
              "3080  AD0498-C         80-2-o-20  Martin Donnelly  Lab Cross     LSTM    -1   \n",
              "\n",
              "      month  latitude  longitude sex_call  ... admin1_name admin1_iso  \\\n",
              "0         4    -8.884     13.302        F  ...      Luanda     AO-LUA   \n",
              "1         4    -8.884     13.302        F  ...      Luanda     AO-LUA   \n",
              "2         4    -8.884     13.302        F  ...      Luanda     AO-LUA   \n",
              "3         4    -8.884     13.302        F  ...      Luanda     AO-LUA   \n",
              "4         4    -8.884     13.302        F  ...      Luanda     AO-LUA   \n",
              "...     ...       ...        ...      ...  ...         ...        ...   \n",
              "3076     -1    53.409     -2.969        F  ...         NaN        NaN   \n",
              "3077     -1    53.409     -2.969        M  ...         NaN        NaN   \n",
              "3078     -1    53.409     -2.969        M  ...         NaN        NaN   \n",
              "3079     -1    53.409     -2.969        F  ...         NaN        NaN   \n",
              "3080     -1    53.409     -2.969        M  ...         NaN        NaN   \n",
              "\n",
              "      admin2_name       taxon  cohort_admin1_year  cohort_admin1_month  \\\n",
              "0          Luanda    coluzzii    AO-LUA_colu_2009  AO-LUA_colu_2009_04   \n",
              "1          Luanda    coluzzii    AO-LUA_colu_2009  AO-LUA_colu_2009_04   \n",
              "2          Luanda    coluzzii    AO-LUA_colu_2009  AO-LUA_colu_2009_04   \n",
              "3          Luanda    coluzzii    AO-LUA_colu_2009  AO-LUA_colu_2009_04   \n",
              "4          Luanda    coluzzii    AO-LUA_colu_2009  AO-LUA_colu_2009_04   \n",
              "...           ...         ...                 ...                  ...   \n",
              "3076          NaN  unassigned                 NaN                  NaN   \n",
              "3077          NaN  unassigned                 NaN                  NaN   \n",
              "3078          NaN  unassigned                 NaN                  NaN   \n",
              "3079          NaN  unassigned                 NaN                  NaN   \n",
              "3080          NaN  unassigned                 NaN                  NaN   \n",
              "\n",
              "     cohort_admin1_quarter       cohort_admin2_year  \\\n",
              "0      AO-LUA_colu_2009_Q2  AO-LUA_Luanda_colu_2009   \n",
              "1      AO-LUA_colu_2009_Q2  AO-LUA_Luanda_colu_2009   \n",
              "2      AO-LUA_colu_2009_Q2  AO-LUA_Luanda_colu_2009   \n",
              "3      AO-LUA_colu_2009_Q2  AO-LUA_Luanda_colu_2009   \n",
              "4      AO-LUA_colu_2009_Q2  AO-LUA_Luanda_colu_2009   \n",
              "...                    ...                      ...   \n",
              "3076                   NaN                      NaN   \n",
              "3077                   NaN                      NaN   \n",
              "3078                   NaN                      NaN   \n",
              "3079                   NaN                      NaN   \n",
              "3080                   NaN                      NaN   \n",
              "\n",
              "             cohort_admin2_month       cohort_admin2_quarter  \n",
              "0     AO-LUA_Luanda_colu_2009_04  AO-LUA_Luanda_colu_2009_Q2  \n",
              "1     AO-LUA_Luanda_colu_2009_04  AO-LUA_Luanda_colu_2009_Q2  \n",
              "2     AO-LUA_Luanda_colu_2009_04  AO-LUA_Luanda_colu_2009_Q2  \n",
              "3     AO-LUA_Luanda_colu_2009_04  AO-LUA_Luanda_colu_2009_Q2  \n",
              "4     AO-LUA_Luanda_colu_2009_04  AO-LUA_Luanda_colu_2009_Q2  \n",
              "...                          ...                         ...  \n",
              "3076                         NaN                         NaN  \n",
              "3077                         NaN                         NaN  \n",
              "3078                         NaN                         NaN  \n",
              "3079                         NaN                         NaN  \n",
              "3080                         NaN                         NaN  \n",
              "\n",
              "[3081 rows x 30 columns]"
            ],
            "text/html": [
              "\n",
              "\n",
              "  <div id=\"df-5d615cad-b3e4-45b2-90cb-d5f4a2e990a9\">\n",
              "    <div class=\"colab-df-container\">\n",
              "      <div>\n",
              "<style scoped>\n",
              "    .dataframe tbody tr th:only-of-type {\n",
              "        vertical-align: middle;\n",
              "    }\n",
              "\n",
              "    .dataframe tbody tr th {\n",
              "        vertical-align: top;\n",
              "    }\n",
              "\n",
              "    .dataframe thead th {\n",
              "        text-align: right;\n",
              "    }\n",
              "</style>\n",
              "<table border=\"1\" class=\"dataframe\">\n",
              "  <thead>\n",
              "    <tr style=\"text-align: right;\">\n",
              "      <th></th>\n",
              "      <th>sample_id</th>\n",
              "      <th>partner_sample_id</th>\n",
              "      <th>contributor</th>\n",
              "      <th>country</th>\n",
              "      <th>location</th>\n",
              "      <th>year</th>\n",
              "      <th>month</th>\n",
              "      <th>latitude</th>\n",
              "      <th>longitude</th>\n",
              "      <th>sex_call</th>\n",
              "      <th>...</th>\n",
              "      <th>admin1_name</th>\n",
              "      <th>admin1_iso</th>\n",
              "      <th>admin2_name</th>\n",
              "      <th>taxon</th>\n",
              "      <th>cohort_admin1_year</th>\n",
              "      <th>cohort_admin1_month</th>\n",
              "      <th>cohort_admin1_quarter</th>\n",
              "      <th>cohort_admin2_year</th>\n",
              "      <th>cohort_admin2_month</th>\n",
              "      <th>cohort_admin2_quarter</th>\n",
              "    </tr>\n",
              "  </thead>\n",
              "  <tbody>\n",
              "    <tr>\n",
              "      <th>0</th>\n",
              "      <td>AR0047-C</td>\n",
              "      <td>LUA047</td>\n",
              "      <td>Joao Pinto</td>\n",
              "      <td>Angola</td>\n",
              "      <td>Luanda</td>\n",
              "      <td>2009</td>\n",
              "      <td>4</td>\n",
              "      <td>-8.884</td>\n",
              "      <td>13.302</td>\n",
              "      <td>F</td>\n",
              "      <td>...</td>\n",
              "      <td>Luanda</td>\n",
              "      <td>AO-LUA</td>\n",
              "      <td>Luanda</td>\n",
              "      <td>coluzzii</td>\n",
              "      <td>AO-LUA_colu_2009</td>\n",
              "      <td>AO-LUA_colu_2009_04</td>\n",
              "      <td>AO-LUA_colu_2009_Q2</td>\n",
              "      <td>AO-LUA_Luanda_colu_2009</td>\n",
              "      <td>AO-LUA_Luanda_colu_2009_04</td>\n",
              "      <td>AO-LUA_Luanda_colu_2009_Q2</td>\n",
              "    </tr>\n",
              "    <tr>\n",
              "      <th>1</th>\n",
              "      <td>AR0049-C</td>\n",
              "      <td>LUA049</td>\n",
              "      <td>Joao Pinto</td>\n",
              "      <td>Angola</td>\n",
              "      <td>Luanda</td>\n",
              "      <td>2009</td>\n",
              "      <td>4</td>\n",
              "      <td>-8.884</td>\n",
              "      <td>13.302</td>\n",
              "      <td>F</td>\n",
              "      <td>...</td>\n",
              "      <td>Luanda</td>\n",
              "      <td>AO-LUA</td>\n",
              "      <td>Luanda</td>\n",
              "      <td>coluzzii</td>\n",
              "      <td>AO-LUA_colu_2009</td>\n",
              "      <td>AO-LUA_colu_2009_04</td>\n",
              "      <td>AO-LUA_colu_2009_Q2</td>\n",
              "      <td>AO-LUA_Luanda_colu_2009</td>\n",
              "      <td>AO-LUA_Luanda_colu_2009_04</td>\n",
              "      <td>AO-LUA_Luanda_colu_2009_Q2</td>\n",
              "    </tr>\n",
              "    <tr>\n",
              "      <th>2</th>\n",
              "      <td>AR0051-C</td>\n",
              "      <td>LUA051</td>\n",
              "      <td>Joao Pinto</td>\n",
              "      <td>Angola</td>\n",
              "      <td>Luanda</td>\n",
              "      <td>2009</td>\n",
              "      <td>4</td>\n",
              "      <td>-8.884</td>\n",
              "      <td>13.302</td>\n",
              "      <td>F</td>\n",
              "      <td>...</td>\n",
              "      <td>Luanda</td>\n",
              "      <td>AO-LUA</td>\n",
              "      <td>Luanda</td>\n",
              "      <td>coluzzii</td>\n",
              "      <td>AO-LUA_colu_2009</td>\n",
              "      <td>AO-LUA_colu_2009_04</td>\n",
              "      <td>AO-LUA_colu_2009_Q2</td>\n",
              "      <td>AO-LUA_Luanda_colu_2009</td>\n",
              "      <td>AO-LUA_Luanda_colu_2009_04</td>\n",
              "      <td>AO-LUA_Luanda_colu_2009_Q2</td>\n",
              "    </tr>\n",
              "    <tr>\n",
              "      <th>3</th>\n",
              "      <td>AR0061-C</td>\n",
              "      <td>LUA061</td>\n",
              "      <td>Joao Pinto</td>\n",
              "      <td>Angola</td>\n",
              "      <td>Luanda</td>\n",
              "      <td>2009</td>\n",
              "      <td>4</td>\n",
              "      <td>-8.884</td>\n",
              "      <td>13.302</td>\n",
              "      <td>F</td>\n",
              "      <td>...</td>\n",
              "      <td>Luanda</td>\n",
              "      <td>AO-LUA</td>\n",
              "      <td>Luanda</td>\n",
              "      <td>coluzzii</td>\n",
              "      <td>AO-LUA_colu_2009</td>\n",
              "      <td>AO-LUA_colu_2009_04</td>\n",
              "      <td>AO-LUA_colu_2009_Q2</td>\n",
              "      <td>AO-LUA_Luanda_colu_2009</td>\n",
              "      <td>AO-LUA_Luanda_colu_2009_04</td>\n",
              "      <td>AO-LUA_Luanda_colu_2009_Q2</td>\n",
              "    </tr>\n",
              "    <tr>\n",
              "      <th>4</th>\n",
              "      <td>AR0078-C</td>\n",
              "      <td>LUA078</td>\n",
              "      <td>Joao Pinto</td>\n",
              "      <td>Angola</td>\n",
              "      <td>Luanda</td>\n",
              "      <td>2009</td>\n",
              "      <td>4</td>\n",
              "      <td>-8.884</td>\n",
              "      <td>13.302</td>\n",
              "      <td>F</td>\n",
              "      <td>...</td>\n",
              "      <td>Luanda</td>\n",
              "      <td>AO-LUA</td>\n",
              "      <td>Luanda</td>\n",
              "      <td>coluzzii</td>\n",
              "      <td>AO-LUA_colu_2009</td>\n",
              "      <td>AO-LUA_colu_2009_04</td>\n",
              "      <td>AO-LUA_colu_2009_Q2</td>\n",
              "      <td>AO-LUA_Luanda_colu_2009</td>\n",
              "      <td>AO-LUA_Luanda_colu_2009_04</td>\n",
              "      <td>AO-LUA_Luanda_colu_2009_Q2</td>\n",
              "    </tr>\n",
              "    <tr>\n",
              "      <th>...</th>\n",
              "      <td>...</td>\n",
              "      <td>...</td>\n",
              "      <td>...</td>\n",
              "      <td>...</td>\n",
              "      <td>...</td>\n",
              "      <td>...</td>\n",
              "      <td>...</td>\n",
              "      <td>...</td>\n",
              "      <td>...</td>\n",
              "      <td>...</td>\n",
              "      <td>...</td>\n",
              "      <td>...</td>\n",
              "      <td>...</td>\n",
              "      <td>...</td>\n",
              "      <td>...</td>\n",
              "      <td>...</td>\n",
              "      <td>...</td>\n",
              "      <td>...</td>\n",
              "      <td>...</td>\n",
              "      <td>...</td>\n",
              "      <td>...</td>\n",
              "    </tr>\n",
              "    <tr>\n",
              "      <th>3076</th>\n",
              "      <td>AD0494-C</td>\n",
              "      <td>80-2-o-16</td>\n",
              "      <td>Martin Donnelly</td>\n",
              "      <td>Lab Cross</td>\n",
              "      <td>LSTM</td>\n",
              "      <td>-1</td>\n",
              "      <td>-1</td>\n",
              "      <td>53.409</td>\n",
              "      <td>-2.969</td>\n",
              "      <td>F</td>\n",
              "      <td>...</td>\n",
              "      <td>NaN</td>\n",
              "      <td>NaN</td>\n",
              "      <td>NaN</td>\n",
              "      <td>unassigned</td>\n",
              "      <td>NaN</td>\n",
              "      <td>NaN</td>\n",
              "      <td>NaN</td>\n",
              "      <td>NaN</td>\n",
              "      <td>NaN</td>\n",
              "      <td>NaN</td>\n",
              "    </tr>\n",
              "    <tr>\n",
              "      <th>3077</th>\n",
              "      <td>AD0495-C</td>\n",
              "      <td>80-2-o-17</td>\n",
              "      <td>Martin Donnelly</td>\n",
              "      <td>Lab Cross</td>\n",
              "      <td>LSTM</td>\n",
              "      <td>-1</td>\n",
              "      <td>-1</td>\n",
              "      <td>53.409</td>\n",
              "      <td>-2.969</td>\n",
              "      <td>M</td>\n",
              "      <td>...</td>\n",
              "      <td>NaN</td>\n",
              "      <td>NaN</td>\n",
              "      <td>NaN</td>\n",
              "      <td>unassigned</td>\n",
              "      <td>NaN</td>\n",
              "      <td>NaN</td>\n",
              "      <td>NaN</td>\n",
              "      <td>NaN</td>\n",
              "      <td>NaN</td>\n",
              "      <td>NaN</td>\n",
              "    </tr>\n",
              "    <tr>\n",
              "      <th>3078</th>\n",
              "      <td>AD0496-C</td>\n",
              "      <td>80-2-o-18</td>\n",
              "      <td>Martin Donnelly</td>\n",
              "      <td>Lab Cross</td>\n",
              "      <td>LSTM</td>\n",
              "      <td>-1</td>\n",
              "      <td>-1</td>\n",
              "      <td>53.409</td>\n",
              "      <td>-2.969</td>\n",
              "      <td>M</td>\n",
              "      <td>...</td>\n",
              "      <td>NaN</td>\n",
              "      <td>NaN</td>\n",
              "      <td>NaN</td>\n",
              "      <td>unassigned</td>\n",
              "      <td>NaN</td>\n",
              "      <td>NaN</td>\n",
              "      <td>NaN</td>\n",
              "      <td>NaN</td>\n",
              "      <td>NaN</td>\n",
              "      <td>NaN</td>\n",
              "    </tr>\n",
              "    <tr>\n",
              "      <th>3079</th>\n",
              "      <td>AD0497-C</td>\n",
              "      <td>80-2-o-19</td>\n",
              "      <td>Martin Donnelly</td>\n",
              "      <td>Lab Cross</td>\n",
              "      <td>LSTM</td>\n",
              "      <td>-1</td>\n",
              "      <td>-1</td>\n",
              "      <td>53.409</td>\n",
              "      <td>-2.969</td>\n",
              "      <td>F</td>\n",
              "      <td>...</td>\n",
              "      <td>NaN</td>\n",
              "      <td>NaN</td>\n",
              "      <td>NaN</td>\n",
              "      <td>unassigned</td>\n",
              "      <td>NaN</td>\n",
              "      <td>NaN</td>\n",
              "      <td>NaN</td>\n",
              "      <td>NaN</td>\n",
              "      <td>NaN</td>\n",
              "      <td>NaN</td>\n",
              "    </tr>\n",
              "    <tr>\n",
              "      <th>3080</th>\n",
              "      <td>AD0498-C</td>\n",
              "      <td>80-2-o-20</td>\n",
              "      <td>Martin Donnelly</td>\n",
              "      <td>Lab Cross</td>\n",
              "      <td>LSTM</td>\n",
              "      <td>-1</td>\n",
              "      <td>-1</td>\n",
              "      <td>53.409</td>\n",
              "      <td>-2.969</td>\n",
              "      <td>M</td>\n",
              "      <td>...</td>\n",
              "      <td>NaN</td>\n",
              "      <td>NaN</td>\n",
              "      <td>NaN</td>\n",
              "      <td>unassigned</td>\n",
              "      <td>NaN</td>\n",
              "      <td>NaN</td>\n",
              "      <td>NaN</td>\n",
              "      <td>NaN</td>\n",
              "      <td>NaN</td>\n",
              "      <td>NaN</td>\n",
              "    </tr>\n",
              "  </tbody>\n",
              "</table>\n",
              "<p>3081 rows × 30 columns</p>\n",
              "</div>\n",
              "      <button class=\"colab-df-convert\" onclick=\"convertToInteractive('df-5d615cad-b3e4-45b2-90cb-d5f4a2e990a9')\"\n",
              "              title=\"Convert this dataframe to an interactive table.\"\n",
              "              style=\"display:none;\">\n",
              "\n",
              "  <svg xmlns=\"http://www.w3.org/2000/svg\" height=\"24px\"viewBox=\"0 0 24 24\"\n",
              "       width=\"24px\">\n",
              "    <path d=\"M0 0h24v24H0V0z\" fill=\"none\"/>\n",
              "    <path d=\"M18.56 5.44l.94 2.06.94-2.06 2.06-.94-2.06-.94-.94-2.06-.94 2.06-2.06.94zm-11 1L8.5 8.5l.94-2.06 2.06-.94-2.06-.94L8.5 2.5l-.94 2.06-2.06.94zm10 10l.94 2.06.94-2.06 2.06-.94-2.06-.94-.94-2.06-.94 2.06-2.06.94z\"/><path d=\"M17.41 7.96l-1.37-1.37c-.4-.4-.92-.59-1.43-.59-.52 0-1.04.2-1.43.59L10.3 9.45l-7.72 7.72c-.78.78-.78 2.05 0 2.83L4 21.41c.39.39.9.59 1.41.59.51 0 1.02-.2 1.41-.59l7.78-7.78 2.81-2.81c.8-.78.8-2.07 0-2.86zM5.41 20L4 18.59l7.72-7.72 1.47 1.35L5.41 20z\"/>\n",
              "  </svg>\n",
              "      </button>\n",
              "\n",
              "\n",
              "\n",
              "    <div id=\"df-1b9b2863-b7f5-4b9d-bf2e-8fed9922e78c\">\n",
              "      <button class=\"colab-df-quickchart\" onclick=\"quickchart('df-1b9b2863-b7f5-4b9d-bf2e-8fed9922e78c')\"\n",
              "              title=\"Suggest charts.\"\n",
              "              style=\"display:none;\">\n",
              "\n",
              "<svg xmlns=\"http://www.w3.org/2000/svg\" height=\"24px\"viewBox=\"0 0 24 24\"\n",
              "     width=\"24px\">\n",
              "    <g>\n",
              "        <path d=\"M19 3H5c-1.1 0-2 .9-2 2v14c0 1.1.9 2 2 2h14c1.1 0 2-.9 2-2V5c0-1.1-.9-2-2-2zM9 17H7v-7h2v7zm4 0h-2V7h2v10zm4 0h-2v-4h2v4z\"/>\n",
              "    </g>\n",
              "</svg>\n",
              "      </button>\n",
              "    </div>\n",
              "\n",
              "<style>\n",
              "  .colab-df-quickchart {\n",
              "    background-color: #E8F0FE;\n",
              "    border: none;\n",
              "    border-radius: 50%;\n",
              "    cursor: pointer;\n",
              "    display: none;\n",
              "    fill: #1967D2;\n",
              "    height: 32px;\n",
              "    padding: 0 0 0 0;\n",
              "    width: 32px;\n",
              "  }\n",
              "\n",
              "  .colab-df-quickchart:hover {\n",
              "    background-color: #E2EBFA;\n",
              "    box-shadow: 0px 1px 2px rgba(60, 64, 67, 0.3), 0px 1px 3px 1px rgba(60, 64, 67, 0.15);\n",
              "    fill: #174EA6;\n",
              "  }\n",
              "\n",
              "  [theme=dark] .colab-df-quickchart {\n",
              "    background-color: #3B4455;\n",
              "    fill: #D2E3FC;\n",
              "  }\n",
              "\n",
              "  [theme=dark] .colab-df-quickchart:hover {\n",
              "    background-color: #434B5C;\n",
              "    box-shadow: 0px 1px 3px 1px rgba(0, 0, 0, 0.15);\n",
              "    filter: drop-shadow(0px 1px 2px rgba(0, 0, 0, 0.3));\n",
              "    fill: #FFFFFF;\n",
              "  }\n",
              "</style>\n",
              "\n",
              "    <script>\n",
              "      async function quickchart(key) {\n",
              "        const containerElement = document.querySelector('#' + key);\n",
              "        const charts = await google.colab.kernel.invokeFunction(\n",
              "            'suggestCharts', [key], {});\n",
              "      }\n",
              "    </script>\n",
              "\n",
              "      <script>\n",
              "\n",
              "function displayQuickchartButton(domScope) {\n",
              "  let quickchartButtonEl =\n",
              "    domScope.querySelector('#df-1b9b2863-b7f5-4b9d-bf2e-8fed9922e78c button.colab-df-quickchart');\n",
              "  quickchartButtonEl.style.display =\n",
              "    google.colab.kernel.accessAllowed ? 'block' : 'none';\n",
              "}\n",
              "\n",
              "        displayQuickchartButton(document);\n",
              "      </script>\n",
              "      <style>\n",
              "    .colab-df-container {\n",
              "      display:flex;\n",
              "      flex-wrap:wrap;\n",
              "      gap: 12px;\n",
              "    }\n",
              "\n",
              "    .colab-df-convert {\n",
              "      background-color: #E8F0FE;\n",
              "      border: none;\n",
              "      border-radius: 50%;\n",
              "      cursor: pointer;\n",
              "      display: none;\n",
              "      fill: #1967D2;\n",
              "      height: 32px;\n",
              "      padding: 0 0 0 0;\n",
              "      width: 32px;\n",
              "    }\n",
              "\n",
              "    .colab-df-convert:hover {\n",
              "      background-color: #E2EBFA;\n",
              "      box-shadow: 0px 1px 2px rgba(60, 64, 67, 0.3), 0px 1px 3px 1px rgba(60, 64, 67, 0.15);\n",
              "      fill: #174EA6;\n",
              "    }\n",
              "\n",
              "    [theme=dark] .colab-df-convert {\n",
              "      background-color: #3B4455;\n",
              "      fill: #D2E3FC;\n",
              "    }\n",
              "\n",
              "    [theme=dark] .colab-df-convert:hover {\n",
              "      background-color: #434B5C;\n",
              "      box-shadow: 0px 1px 3px 1px rgba(0, 0, 0, 0.15);\n",
              "      filter: drop-shadow(0px 1px 2px rgba(0, 0, 0, 0.3));\n",
              "      fill: #FFFFFF;\n",
              "    }\n",
              "  </style>\n",
              "\n",
              "      <script>\n",
              "        const buttonEl =\n",
              "          document.querySelector('#df-5d615cad-b3e4-45b2-90cb-d5f4a2e990a9 button.colab-df-convert');\n",
              "        buttonEl.style.display =\n",
              "          google.colab.kernel.accessAllowed ? 'block' : 'none';\n",
              "\n",
              "        async function convertToInteractive(key) {\n",
              "          const element = document.querySelector('#df-5d615cad-b3e4-45b2-90cb-d5f4a2e990a9');\n",
              "          const dataTable =\n",
              "            await google.colab.kernel.invokeFunction('convertToInteractive',\n",
              "                                                     [key], {});\n",
              "          if (!dataTable) return;\n",
              "\n",
              "          const docLinkHtml = 'Like what you see? Visit the ' +\n",
              "            '<a target=\"_blank\" href=https://colab.research.google.com/notebooks/data_table.ipynb>data table notebook</a>'\n",
              "            + ' to learn more about interactive tables.';\n",
              "          element.innerHTML = '';\n",
              "          dataTable['output_type'] = 'display_data';\n",
              "          await google.colab.output.renderOutput(dataTable, element);\n",
              "          const docLink = document.createElement('div');\n",
              "          docLink.innerHTML = docLinkHtml;\n",
              "          element.appendChild(docLink);\n",
              "        }\n",
              "      </script>\n",
              "    </div>\n",
              "  </div>\n"
            ]
          },
          "metadata": {},
          "execution_count": 8
        }
      ],
      "source": [
        "df_samples"
      ]
    },
    {
      "cell_type": "markdown",
      "metadata": {
        "id": "lJtQ2mcqTAWA"
      },
      "source": [
        "## Creating plots\n",
        "\n",
        "You can also create plots within notebooks. There are several plotting packages available for Python, but three popular and useful plotting packages are [matplotlib](https://matplotlib.org/), [plotly express](https://matplotlib.org/), and [bokeh](https://docs.bokeh.org/en/latest/index.html). Let's illustrate making some plots with these packages.\n",
        "\n",
        "First let's generate some random data to plot."
      ]
    },
    {
      "cell_type": "code",
      "execution_count": 9,
      "metadata": {
        "colab": {
          "base_uri": "https://localhost:8080/"
        },
        "id": "0eTx4ltEj1ww",
        "outputId": "ebe56903-f068-43dd-d155-ae4d031fbdc0"
      },
      "outputs": [
        {
          "output_type": "execute_result",
          "data": {
            "text/plain": [
              "array([14, 17, 14, ..., 17, 13, 12])"
            ]
          },
          "metadata": {},
          "execution_count": 9
        }
      ],
      "source": [
        "x = np.random.binomial(n=30, p=0.5, size=10_000)\n",
        "x"
      ]
    },
    {
      "cell_type": "markdown",
      "metadata": {
        "id": "tJY3E8yGTDC_"
      },
      "source": [
        "### Matplotlib\n",
        "\n",
        "Here's how to import and activate matplotlib in a notebook."
      ]
    },
    {
      "cell_type": "code",
      "execution_count": 10,
      "metadata": {
        "id": "SiolTVY8hyfH"
      },
      "outputs": [],
      "source": [
        "import matplotlib.pyplot as plt\n",
        "%matplotlib inline"
      ]
    },
    {
      "cell_type": "markdown",
      "metadata": {
        "id": "Z37r1mE46xBt"
      },
      "source": [
        "Here's how to create a histogram."
      ]
    },
    {
      "cell_type": "code",
      "execution_count": 11,
      "metadata": {
        "colab": {
          "base_uri": "https://localhost:8080/",
          "height": 472
        },
        "id": "nWAXQguFhy6J",
        "outputId": "9d0ec557-67a6-45f7-ee3f-c86a5fe7b750"
      },
      "outputs": [
        {
          "output_type": "display_data",
          "data": {
            "text/plain": [
              "<Figure size 640x480 with 1 Axes>"
            ],
            "image/png": "[encoded data removed]"
          },
          "metadata": {}
        }
      ],
      "source": [
        "fig, ax = plt.subplots()\n",
        "ax.hist(x)\n",
        "ax.set_xlabel(\"x\")\n",
        "ax.set_ylabel(\"Count\")\n",
        "ax.set_title(\"The binomial distribution\");"
      ]
    },
    {
      "cell_type": "markdown",
      "metadata": {
        "id": "xYqfzVjmTLCM"
      },
      "source": [
        "### Plotly Express\n",
        "\n",
        "Here's how to import plotly express."
      ]
    },
    {
      "cell_type": "code",
      "execution_count": 12,
      "metadata": {
        "id": "DJgxWVfzjLQg"
      },
      "outputs": [],
      "source": [
        "import plotly.express as px"
      ]
    },
    {
      "cell_type": "markdown",
      "metadata": {
        "id": "5MFMXUfH6xBu"
      },
      "source": [
        "Here's how to plot a histogram."
      ]
    },
    {
      "cell_type": "code",
      "execution_count": 13,
      "metadata": {
        "colab": {
          "base_uri": "https://localhost:8080/",
          "height": 417
        },
        "id": "JLPR8ISZjMP4",
        "outputId": "f9185d45-3c9b-476a-cccf-f8d1cfc248b2"
      },
      "outputs": [
        {
          "output_type": "display_data",
          "data": {
            "text/html": [
              "<html>\n",
              "<head><meta charset=\"utf-8\" /></head>\n",
              "<body>\n",
              "    <div>            <script src=\"https://cdnjs.cloudflare.com/ajax/libs/mathjax/2.7.5/MathJax.js?config=TeX-AMS-MML_SVG\"></script><script type=\"text/javascript\">if (window.MathJax && window.MathJax.Hub && window.MathJax.Hub.Config) {window.MathJax.Hub.Config({SVG: {font: \"STIX-Web\"}});}</script>                <script type=\"text/javascript\">window.PlotlyConfig = {MathJaxConfig: 'local'};</script>\n",
              "        <script charset=\"utf-8\" src=\"https://cdn.plot.ly/plotly-2.24.1.min.js\"></script>                <div id=\"1612c31a-93ff-4801-abc8-4255b0b5d68c\" class=\"plotly-graph-div\" style=\"height:400px; width:600px;\"></div>            <script type=\"text/javascript\">                                    window.PLOTLYENV=window.PLOTLYENV || {};                                    if (document.getElementById(\"1612c31a-93ff-4801-abc8-4255b0b5d68c\")) {                    Plotly.newPlot(                        \"1612c31a-93ff-4801-abc8-4255b0b5d68c\",                        [{\"alignmentgroup\":\"True\",\"bingroup\":\"x\",\"hovertemplate\":\"x=%{x}\\u003cbr\\u003ecount=%{y}\\u003cextra\\u003e\\u003c\\u002fextra\\u003e\",\"legendgroup\":\"\",\"marker\":{\"color\":\"#636efa\",\"pattern\":{\"shape\":\"\"}},\"name\":\"\",\"offsetgroup\":\"\",\"orientation\":\"v\",\"showlegend\":false,\"x\":[14,17,14,15,17,16,17,17,20,14,15,17,14,16,20,17,10,13,14,15,14,15,18,15,11,17,14,14,13,13,13,12,15,16,15,18,16,14,19,14,19,18,14,21,12,16,16,11,13,16,18,11,19,18,17,11,11,13,9,20,14,16,16,20,12,16,18,14,12,14,16,16,17,13,13,14,16,15,22,18,11,16,14,17,10,19,16,17,14,14,17,18,12,13,19,15,19,15,17,11,19,15,18,13,19,18,12,14,13,11,14,15,23,20,10,16,17,17,20,10,14,15,15,16,17,12,16,15,21,15,17,16,19,13,16,17,22,17,17,17,14,16,16,14,18,15,18,20,12,14,15,14,19,15,12,15,13,13,15,12,12,9,15,18,17,18,19,19,9,17,18,14,11,23,11,16,16,16,14,17,15,15,19,12,14,10,11,14,13,17,14,11,19,16,14,15,12,14,16,19,16,14,16,15,18,14,18,15,17,16,14,16,9,11,13,18,14,22,18,16,14,17,15,19,13,11,13,12,17,16,15,14,21,12,16,14,15,11,14,13,18,16,12,15,11,16,18,16,14,13,12,17,14,12,13,17,16,17,21,14,18,14,14,13,16,16,14,16,14,15,16,15,14,14,12,15,17,13,19,14,17,12,13,13,13,15,9,15,16,10,16,12,14,15,17,13,18,14,12,10,16,11,20,15,10,10,15,14,19,17,18,11,12,16,13,11,15,15,12,15,15,18,10,18,16,18,13,16,17,8,16,12,13,11,13,13,16,16,12,16,16,15,15,15,10,14,13,15,17,18,16,16,17,13,17,20,10,14,16,17,16,15,14,15,14,11,15,13,11,18,12,14,13,14,11,11,16,12,19,14,14,15,14,8,13,15,19,15,14,15,17,17,9,16,17,9,13,15,14,12,17,14,15,13,17,13,18,15,16,20,19,19,18,17,15,13,12,19,14,16,18,16,11,18,13,9,16,19,11,13,14,14,18,13,15,17,17,17,14,14,14,16,16,11,14,12,15,18,11,14,10,12,13,16,16,17,17,13,9,13,13,16,16,15,22,19,12,18,20,14,14,11,16,12,14,14,19,12,16,16,14,7,17,15,19,17,16,12,19,12,12,17,13,16,16,12,20,19,18,11,12,17,17,14,14,20,15,17,18,13,14,15,18,12,19,12,12,13,14,11,17,13,16,15,19,18,12,16,12,13,18,11,14,22,15,17,17,15,15,18,22,15,15,13,15,10,14,19,18,20,12,13,13,13,14,10,13,14,13,12,12,12,12,16,15,15,16,11,11,16,13,14,16,17,13,9,17,16,18,17,12,17,15,19,14,11,15,13,16,16,14,9,13,18,14,22,15,15,10,17,17,12,18,16,17,16,17,13,13,13,16,12,16,15,15,14,14,18,15,13,14,18,20,18,18,15,15,13,14,17,17,17,10,13,14,16,12,14,14,17,15,11,13,16,12,11,19,20,15,16,14,18,16,15,17,15,17,18,13,7,15,16,14,16,17,15,20,11,20,14,16,15,15,17,10,17,16,15,17,16,14,21,10,19,17,12,13,20,18,22,15,15,17,17,16,18,15,14,15,14,15,15,19,17,13,18,15,13,16,15,9,15,15,22,19,15,18,16,14,16,14,12,14,15,10,11,13,12,14,14,20,15,16,16,17,15,8,15,15,16,8,14,14,22,17,15,18,18,19,16,15,14,17,14,9,14,14,17,14,15,15,19,10,15,18,11,12,16,13,10,12,18,12,20,19,15,18,16,21,15,16,15,13,20,14,13,14,8,13,17,13,18,13,17,18,12,19,11,16,18,17,18,14,19,20,13,12,16,12,13,11,14,20,15,17,13,16,18,18,15,15,17,16,16,17,15,16,16,14,16,13,19,18,14,12,21,14,17,15,11,13,15,16,15,14,13,19,16,11,17,22,15,10,15,18,14,20,15,14,21,20,16,13,11,13,15,13,13,11,14,14,15,18,15,15,18,19,12,14,16,18,16,16,17,11,12,13,17,12,15,13,11,16,14,16,17,14,17,16,16,13,10,15,13,18,15,14,18,18,18,18,21,15,13,15,13,15,15,16,15,17,11,22,12,13,12,18,14,16,18,16,10,14,12,12,15,15,19,18,11,10,13,14,10,17,15,14,19,16,15,13,19,7,14,11,16,13,16,14,15,14,12,11,19,10,18,15,15,13,17,12,17,17,13,15,11,17,15,18,19,18,13,13,17,11,17,11,13,17,15,11,15,12,13,18,14,15,14,20,13,17,16,14,13,15,20,17,10,11,14,17,13,12,16,17,14,14,16,17,18,22,16,12,16,19,16,13,15,14,13,15,12,16,14,14,13,14,13,18,16,14,14,18,12,15,19,16,18,14,12,13,12,19,12,11,16,10,12,10,9,14,16,13,16,16,17,21,18,13,22,12,14,20,10,14,15,12,21,13,17,11,11,15,16,14,17,13,18,15,12,9,13,16,18,15,14,19,15,14,18,14,21,16,16,16,13,16,16,14,17,18,20,16,17,13,14,13,18,20,13,16,14,16,20,14,17,13,19,15,17,17,20,16,15,14,16,20,13,14,16,17,15,11,17,18,14,11,21,13,19,14,13,15,13,14,17,12,16,10,18,15,23,13,13,17,18,14,14,14,14,15,14,18,12,15,14,15,19,14,11,14,18,15,20,16,18,18,14,21,16,11,21,17,17,17,14,14,17,13,12,16,13,20,17,14,14,18,18,13,22,20,11,11,12,13,17,12,18,15,14,8,12,15,18,19,16,12,12,15,15,11,16,14,17,13,17,12,15,15,11,15,14,17,12,15,12,15,16,14,10,15,18,14,14,16,10,9,18,12,15,16,19,17,19,16,11,14,6,16,13,19,18,14,12,14,15,12,15,16,13,10,15,16,18,14,13,15,10,15,14,11,15,19,17,12,15,16,17,17,12,14,18,15,15,12,17,13,16,14,19,15,13,12,13,12,19,12,16,15,12,14,15,15,16,14,19,16,12,14,19,15,18,18,14,18,12,15,17,15,13,20,15,15,15,15,19,13,15,14,12,17,18,18,13,20,14,16,22,16,18,12,17,15,19,12,12,10,16,17,21,18,16,15,12,18,16,15,17,16,14,13,11,18,16,11,17,15,14,13,16,9,11,19,15,12,20,13,17,12,16,15,17,19,14,10,12,14,13,15,13,17,10,18,14,18,17,16,12,17,15,15,18,13,14,19,14,15,9,13,12,12,18,12,12,17,15,16,11,18,6,16,16,9,16,14,17,17,17,14,15,19,18,17,14,14,17,15,17,14,14,11,16,11,13,14,15,12,16,16,19,15,13,13,17,12,17,15,16,16,16,18,18,14,13,18,18,12,12,14,14,13,13,13,19,16,14,10,14,13,14,14,17,13,13,14,12,15,13,10,13,16,13,13,15,17,16,14,13,15,13,10,16,19,15,9,17,11,13,18,17,17,12,18,10,17,15,12,17,16,20,18,10,14,10,14,13,14,15,13,18,13,15,10,15,15,15,7,18,15,17,16,16,17,19,15,13,11,19,15,16,17,16,16,12,15,17,16,16,15,13,13,15,15,13,14,15,13,16,16,13,15,13,16,13,13,14,13,13,16,14,15,16,16,19,15,17,14,12,18,15,13,14,15,13,16,16,10,16,13,18,18,19,8,17,14,16,14,11,14,16,18,14,13,19,15,14,14,16,16,18,14,12,16,17,11,15,16,17,18,15,15,16,13,13,13,14,21,11,14,13,16,16,16,16,17,20,12,13,17,14,11,17,18,14,11,15,18,10,16,17,15,18,20,13,17,13,15,9,21,17,10,18,15,10,13,14,19,17,13,15,13,15,14,15,13,18,10,14,10,18,12,14,19,15,12,13,13,15,17,17,14,7,13,20,12,16,12,15,16,17,19,12,14,15,13,15,10,11,15,16,13,16,18,18,18,13,16,16,13,20,16,14,11,17,16,20,16,17,11,15,16,15,14,16,13,22,20,12,22,17,14,14,10,13,15,15,17,14,12,16,13,10,12,13,13,13,16,10,15,16,18,12,13,12,13,8,17,13,15,9,11,13,14,15,9,13,11,11,16,16,14,14,13,17,20,16,14,12,20,11,18,11,17,14,11,9,18,17,13,19,14,15,19,9,19,16,19,13,18,17,13,16,15,16,17,19,16,15,16,15,17,17,16,19,14,15,17,17,15,21,14,15,16,15,20,16,13,13,16,17,13,13,18,20,15,17,20,9,16,14,14,17,13,13,13,14,15,14,13,16,12,14,11,20,18,13,19,16,17,15,15,15,14,22,16,16,14,13,17,10,17,15,16,15,17,17,15,10,12,16,15,18,12,15,19,20,12,17,14,16,12,18,18,18,18,12,15,16,14,15,16,15,17,11,14,14,16,18,11,12,18,18,12,14,11,16,18,12,17,14,17,17,15,13,14,14,13,12,9,11,15,19,15,16,16,17,11,14,15,18,14,15,10,16,14,15,13,17,20,19,13,18,13,17,13,16,17,9,12,14,14,17,15,17,13,15,13,18,12,18,15,18,17,11,14,18,14,12,16,14,16,10,13,15,12,15,16,13,15,14,12,15,18,16,12,13,17,13,20,18,20,14,16,13,16,13,18,14,18,14,16,13,17,17,14,17,14,14,17,15,15,15,10,15,13,16,16,16,14,19,21,12,12,17,12,13,13,13,7,14,14,13,16,15,10,14,12,16,14,17,15,17,12,20,14,15,13,15,16,15,20,15,17,14,17,11,14,13,10,10,22,18,17,17,13,15,17,14,15,14,12,16,18,13,10,17,17,17,13,15,16,16,18,13,17,15,14,12,11,18,16,19,16,12,19,17,14,14,12,15,16,11,14,17,16,18,12,14,18,13,14,14,11,16,12,14,14,8,17,17,14,14,17,14,14,15,17,23,17,17,16,14,15,15,13,15,18,15,13,16,19,12,16,14,16,15,16,15,15,17,18,19,13,18,15,17,16,15,20,17,17,15,14,15,15,13,16,15,22,14,13,16,14,15,16,12,13,14,16,14,14,14,10,14,15,17,19,14,14,12,16,14,15,15,13,18,14,17,13,10,12,17,17,19,12,19,17,11,15,15,14,10,15,14,14,16,13,13,18,19,14,14,18,18,11,17,16,18,15,14,18,8,14,21,14,12,14,16,15,10,14,18,14,15,16,20,17,12,18,15,11,12,12,22,10,13,19,18,14,9,14,16,18,15,15,17,11,13,13,16,16,11,16,13,13,18,13,18,15,18,22,14,15,13,9,14,19,17,15,14,19,15,15,11,12,18,15,13,16,15,18,16,17,13,17,13,11,14,15,17,16,18,12,14,13,16,13,14,13,10,11,19,15,15,17,13,14,18,11,17,16,19,20,10,14,13,13,12,17,19,15,14,11,15,15,14,18,15,14,19,19,16,15,17,14,19,12,16,12,16,11,11,14,15,16,14,15,15,13,14,21,11,16,12,15,15,17,14,15,13,12,18,22,17,13,16,16,22,12,15,20,20,18,17,10,13,11,23,12,11,14,16,14,20,12,12,14,16,14,14,17,16,7,15,12,15,10,15,11,13,17,17,17,19,16,14,14,9,14,12,20,16,15,19,13,11,15,15,14,19,15,14,12,15,11,15,13,12,11,16,12,17,15,14,15,11,13,17,17,12,12,16,18,18,14,18,13,12,20,12,10,18,22,17,22,19,15,15,19,15,17,18,15,17,12,16,16,15,17,14,11,17,18,16,13,21,11,16,17,11,14,18,13,13,8,17,18,16,13,15,15,17,14,15,13,12,13,19,18,13,14,15,20,14,16,16,20,13,13,15,12,15,10,14,13,13,16,13,12,12,17,19,16,14,14,12,15,13,11,16,14,18,8,17,17,17,14,13,15,14,9,15,18,14,18,14,14,21,15,17,15,17,14,16,16,12,14,19,17,16,16,19,19,15,13,15,16,15,12,16,16,14,11,14,15,16,11,21,13,16,17,17,20,16,18,14,13,13,16,13,15,15,21,16,15,16,12,15,18,12,10,14,12,15,16,18,13,16,10,22,13,13,14,8,6,11,16,17,15,15,16,9,12,14,15,12,14,20,16,14,17,16,18,21,14,14,18,14,15,13,15,20,16,14,13,17,19,15,14,15,17,12,18,8,14,18,14,14,14,15,14,17,19,16,19,15,9,13,14,15,12,17,11,11,23,12,19,17,16,12,10,16,11,13,18,13,13,20,18,13,11,13,15,18,15,13,11,16,19,15,24,17,10,12,17,9,12,14,16,14,16,11,13,10,16,17,18,13,16,11,14,16,17,11,18,11,17,16,12,14,13,15,22,16,16,17,20,16,9,13,14,17,15,13,11,15,16,21,19,18,14,13,15,16,16,15,15,14,15,17,15,18,16,15,15,13,15,17,17,14,20,13,12,16,15,17,16,13,17,17,12,22,16,15,15,13,15,16,17,12,21,11,15,15,16,17,14,17,13,13,16,13,17,16,9,15,14,18,15,19,15,17,12,12,15,14,12,10,15,18,13,17,11,16,14,16,8,12,12,15,12,12,7,15,12,22,16,14,16,19,15,13,16,17,14,15,15,12,18,15,16,11,14,14,16,17,19,12,18,16,19,16,15,15,15,13,21,11,13,13,14,14,16,14,15,16,13,13,15,16,12,16,14,12,13,20,11,16,16,15,14,19,15,12,14,16,15,16,11,14,10,12,15,12,15,16,16,12,11,13,17,15,17,12,21,17,10,14,12,17,14,16,12,18,22,14,18,18,16,17,15,14,14,14,14,11,19,22,13,15,15,12,15,13,16,18,18,20,15,14,14,19,15,17,16,16,11,12,17,16,13,17,16,16,13,15,15,16,13,13,17,19,15,17,15,15,16,17,11,17,12,15,17,17,17,15,16,16,18,13,17,18,16,15,14,12,15,16,18,15,16,18,12,13,13,13,14,17,13,14,16,10,13,12,12,17,13,15,13,15,14,15,18,16,15,20,14,19,17,13,15,17,12,15,14,16,16,15,15,10,14,18,16,16,9,13,13,18,16,18,15,14,14,15,11,15,15,15,18,14,13,13,14,16,13,14,14,9,19,14,14,16,14,16,15,17,17,14,16,15,17,10,18,18,13,16,20,12,16,18,12,20,14,10,14,10,8,13,17,16,18,15,15,13,13,14,14,14,19,16,17,13,15,14,14,16,14,13,17,9,10,17,18,15,14,17,16,13,10,17,10,17,16,17,14,17,10,14,13,16,16,16,15,15,18,12,16,17,14,19,17,12,14,16,15,16,17,13,19,11,16,17,11,12,14,12,14,16,15,14,14,10,13,15,11,13,15,15,20,14,20,8,16,17,14,13,18,11,18,18,14,18,18,20,14,16,16,19,11,12,11,18,12,16,16,19,17,17,17,15,11,16,14,10,10,12,14,17,18,12,11,18,17,13,18,16,10,15,19,8,16,13,13,11,13,14,16,17,15,13,16,15,13,14,18,16,13,18,15,17,15,16,19,16,12,13,18,14,19,17,15,12,15,17,10,13,14,11,14,17,13,14,16,12,8,19,14,12,9,15,16,17,13,14,11,17,19,15,20,17,12,12,16,9,16,11,18,13,18,17,16,18,14,13,14,14,17,14,18,16,8,15,18,10,13,14,11,10,13,16,18,13,17,14,15,20,16,11,10,14,18,13,8,12,15,15,15,16,14,14,19,13,15,17,14,14,13,18,12,17,12,14,9,17,9,11,17,15,13,15,21,17,18,19,15,13,13,13,13,12,13,11,21,18,14,17,15,14,13,14,13,18,15,13,12,23,16,16,9,17,13,16,12,11,14,13,16,12,16,24,15,19,14,14,13,15,17,14,13,17,18,17,12,16,15,12,20,17,18,15,11,14,14,17,12,15,14,20,19,10,16,15,18,15,13,10,11,16,13,16,12,10,19,14,14,12,16,15,19,10,16,16,11,15,15,13,14,13,15,10,14,18,13,14,18,11,15,17,12,14,16,13,17,18,12,17,19,18,16,19,13,17,16,17,13,15,12,19,12,13,18,22,15,17,10,17,12,18,12,18,16,13,19,16,16,17,15,14,14,11,17,8,9,15,15,14,9,19,11,16,14,14,14,13,16,15,15,14,16,17,15,15,12,14,17,15,17,17,12,13,14,16,14,7,15,17,12,16,13,15,19,15,13,10,14,10,14,17,17,13,12,16,16,17,13,20,14,19,17,19,15,15,13,18,18,17,17,14,15,16,16,16,16,20,14,13,13,14,12,15,13,16,8,15,20,16,15,15,12,14,12,14,11,17,13,15,16,17,18,22,17,17,14,16,18,17,12,15,16,18,11,16,15,14,13,15,16,15,13,15,12,15,15,15,12,19,15,14,11,16,9,14,13,14,15,12,10,14,18,15,16,12,15,16,14,19,15,18,18,14,16,13,15,18,14,18,14,18,14,13,12,12,18,14,15,16,18,10,17,16,13,10,13,12,16,15,12,14,13,17,15,11,13,19,14,13,12,14,17,13,11,16,13,21,13,15,13,13,15,23,10,15,15,16,23,18,18,16,13,14,17,15,16,15,14,16,16,14,9,20,17,12,17,15,14,14,15,21,17,19,9,12,17,10,12,13,14,8,15,17,11,15,13,11,11,16,18,16,16,13,14,21,10,13,14,17,11,17,18,15,14,18,14,18,17,18,13,20,11,15,11,17,12,19,11,17,12,18,17,13,13,13,15,12,17,13,15,14,11,15,13,16,11,14,9,13,14,15,15,18,12,16,15,14,17,21,8,17,15,19,17,16,16,14,11,11,15,17,15,13,11,19,13,14,15,13,12,16,15,15,13,12,16,15,15,20,11,16,17,13,16,12,15,12,13,15,10,12,17,16,12,16,13,19,18,15,16,12,17,15,14,14,21,17,16,16,14,13,20,18,17,22,15,16,13,12,14,18,15,19,18,14,14,18,13,17,20,10,9,14,10,11,15,21,13,13,18,17,13,12,11,14,17,9,12,11,17,23,16,16,13,16,15,16,15,19,18,13,16,11,15,15,16,19,16,16,17,17,9,13,14,11,18,12,12,14,13,18,17,15,16,14,15,14,17,15,8,15,19,17,14,12,12,18,17,18,19,11,15,18,16,18,15,18,16,18,13,15,11,13,17,13,20,15,18,11,15,9,16,17,11,16,10,16,16,13,15,10,9,16,17,14,17,13,15,15,21,15,17,15,18,15,17,14,17,16,13,17,12,21,18,11,16,12,15,16,21,17,19,13,11,15,18,14,16,12,18,20,15,12,16,10,18,18,9,15,22,14,14,15,17,15,14,18,17,14,14,17,14,10,17,14,13,16,16,10,17,11,16,15,17,9,16,14,20,16,13,11,11,18,17,10,14,18,11,16,16,18,16,20,18,16,12,12,20,16,17,14,15,14,16,17,14,14,17,20,17,18,15,12,15,20,8,15,12,21,15,10,11,15,13,14,14,13,20,15,13,18,14,16,17,15,17,17,13,15,17,15,14,12,11,13,12,14,19,17,7,15,13,13,16,12,16,17,14,13,12,18,11,13,13,13,19,16,14,14,18,14,18,16,18,12,15,15,20,19,14,12,19,18,14,16,15,14,15,12,10,12,18,12,17,15,17,16,15,13,13,17,16,16,12,16,15,13,16,15,18,14,14,13,15,13,16,17,16,18,15,17,18,12,17,17,11,15,14,14,12,16,10,10,12,18,11,17,19,18,21,14,10,12,10,15,13,13,20,17,17,13,16,12,14,13,13,14,15,18,14,14,15,13,18,15,15,15,16,16,17,11,15,11,18,15,14,13,18,13,13,16,11,15,11,13,14,17,16,12,15,15,16,14,12,19,17,18,9,18,13,14,17,19,16,17,13,14,15,11,15,20,14,11,17,13,14,12,16,17,18,16,14,14,14,17,15,12,17,12,12,12,18,14,12,16,12,16,9,10,15,13,13,20,13,13,16,12,13,19,9,14,13,15,12,18,16,13,14,14,11,17,17,19,16,15,17,16,14,13,15,17,13,15,16,17,14,13,17,12,16,16,14,16,17,16,17,17,16,17,11,14,17,12,14,16,17,17,15,14,17,16,17,14,16,13,14,16,16,16,15,18,18,18,20,15,15,9,15,15,18,15,18,12,14,10,12,13,17,9,17,12,10,18,11,15,9,17,18,15,15,16,11,15,18,14,17,13,21,17,18,16,14,15,15,19,17,12,18,14,17,15,11,17,11,10,14,12,12,18,16,15,16,16,14,16,14,16,15,17,14,18,16,12,13,19,19,21,14,17,15,14,12,22,18,19,18,16,18,15,16,16,14,18,15,17,13,11,13,14,16,14,16,17,13,16,16,17,18,12,11,14,19,15,13,14,16,17,15,14,13,15,16,18,16,16,14,7,14,17,17,15,14,8,15,16,18,13,21,15,15,14,17,13,16,18,16,14,12,15,15,13,14,15,17,18,16,19,7,19,18,13,15,18,14,15,15,18,18,14,13,16,14,19,15,18,18,17,17,11,15,17,13,14,16,10,16,15,13,15,11,14,14,14,15,17,13,16,15,14,14,15,13,18,14,14,15,14,17,9,15,14,15,14,12,11,15,15,15,14,13,10,9,18,15,16,14,12,16,15,14,14,12,14,13,12,17,18,19,17,14,17,18,10,19,12,15,13,12,16,17,18,17,18,17,21,15,21,17,19,16,13,9,15,12,12,13,11,18,15,18,14,19,10,14,15,11,15,15,16,10,18,9,16,13,13,14,10,14,13,13,16,13,15,19,13,19,14,13,12,17,17,13,15,16,12,17,17,13,13,21,12,15,19,16,12,21,15,11,10,15,18,17,13,15,15,17,12,14,12,18,17,17,17,12,14,16,18,19,17,12,14,14,15,20,13,11,19,19,15,13,11,15,15,16,19,12,15,14,17,11,12,12,16,22,14,15,12,16,17,13,15,15,19,12,13,12,15,19,14,15,9,17,19,16,13,9,16,17,18,10,12,14,14,19,21,11,20,13,18,17,18,16,16,17,15,8,15,22,12,15,17,17,14,14,17,11,10,11,14,19,11,15,14,15,19,14,14,16,15,16,15,16,18,19,15,16,13,16,18,17,17,15,19,14,15,11,15,13,14,13,13,18,16,11,12,14,16,17,12,17,18,21,17,17,15,16,15,12,14,22,14,15,17,16,11,13,14,17,13,14,18,15,13,13,11,15,15,16,11,12,13,17,15,17,16,19,18,12,13,16,19,13,15,16,13,15,18,14,17,11,19,15,15,18,11,17,12,13,20,16,14,12,13,12,15,19,14,18,21,17,9,12,14,17,22,19,13,18,16,9,18,14,14,18,18,20,19,15,21,15,17,17,10,16,20,19,12,15,18,13,16,20,17,15,16,10,12,15,16,17,14,17,15,15,13,20,12,15,11,16,14,17,19,13,10,13,16,19,16,19,15,14,16,13,9,19,11,10,16,14,9,15,18,14,19,19,15,12,13,10,17,16,10,16,17,10,13,12,9,15,14,18,18,15,15,15,18,15,15,10,18,19,18,17,18,11,13,20,14,16,15,15,14,13,12,17,19,11,16,15,16,18,10,10,11,18,15,15,16,19,17,17,18,18,12,15,16,16,9,15,9,14,16,14,11,16,17,15,19,18,16,14,12,20,14,11,16,14,14,17,15,16,9,15,12,17,18,18,7,17,22,13,15,15,20,17,17,17,18,17,14,17,15,16,14,17,11,8,20,16,18,10,11,13,14,18,14,16,11,13,17,14,13,12,19,13,15,16,12,16,14,16,10,12,16,20,12,18,14,13,12,15,17,11,10,16,15,12,14,12,15,14,13,14,12,8,12,15,14,11,18,16,14,15,18,13,15,18,14,16,16,14,12,13,19,18,15,11,17,18,14,18,17,13,10,18,16,21,20,12,16,16,16,10,14,16,13,18,17,15,23,14,14,13,19,14,13,17,16,18,16,15,11,14,18,12,17,16,19,16,13,18,17,9,14,16,12,17,20,17,19,15,15,18,14,17,14,19,13,14,16,16,18,19,14,11,19,15,14,14,14,12,13,10,16,15,15,15,10,13,11,17,13,13,17,18,16,13,15,14,17,16,13,12,15,12,17,12,17,18,14,13,12,11,20,15,12,12,13,15,20,10,13,20,9,20,16,14,14,16,11,16,15,13,11,13,20,16,18,15,16,16,11,18,15,13,16,14,16,12,16,12,16,17,16,15,16,11,17,13,14,17,16,19,14,15,14,13,16,17,11,19,17,12,14,14,13,11,14,21,14,15,19,17,14,16,14,17,17,12,18,14,18,15,13,13,14,17,11,15,16,22,20,20,17,15,13,18,13,14,17,16,20,17,15,17,16,17,17,20,14,11,8,15,13,17,13,15,12,17,13,16,14,16,8,13,15,13,20,17,13,19,16,13,14,17,17,14,13,19,12,13,12,9,9,13,13,17,16,12,15,20,17,12,16,17,15,18,19,15,16,12,17,13,16,9,19,14,8,15,14,16,12,22,20,14,10,12,11,15,16,14,19,13,14,13,16,14,18,15,17,12,12,14,15,20,13,14,11,15,9,19,11,15,16,14,15,10,18,16,11,9,19,14,14,12,10,13,11,14,18,11,11,20,14,14,18,13,11,12,11,13,14,11,12,11,16,13,13,13,17,16,15,15,18,18,14,16,22,20,12,15,13,14,14,10,15,17,16,14,10,14,13,12,18,16,13,25,17,17,11,15,11,15,17,17,14,15,11,20,16,20,17,12,21,12,11,15,12,16,17,15,13,17,13,15,16,17,15,15,18,13,11,17,13,11,14,18,14,12,16,16,15,20,18,14,13,19,12,16,12,15,16,17,15,17,16,9,12,16,14,16,16,12,13,20,18,18,14,15,15,15,18,17,16,14,15,10,15,13,19,13,13,17,18,17,14,15,13,12,8,14,13,13,8,18,12,16,16,16,15,12,16,14,15,20,18,17,17,16,12,17,18,11,16,17,13,17,16,20,17,14,19,17,13,18,18,15,23,15,15,15,16,11,13,10,13,14,15,17,13,13,13,14,17,16,14,18,16,12,18,12,14,18,18,19,13,17,16,19,17,16,16,19,13,18,13,16,17,19,14,20,13,12,18,13,14,14,17,9,14,21,13,10,17,8,12,15,19,14,13,20,18,14,15,9,13,15,14,13,17,19,14,14,16,16,21,15,8,14,15,10,11,15,15,17,13,14,17,12,17,10,19,21,16,16,20,17,16,13,12,10,15,13,15,18,17,10,11,16,15,12,11,20,13,19,18,10,13,10,15,20,16,16,22,9,12,10,14,14,15,14,15,15,14,17,11,16,13,14,14,14,18,14,18,11,17,17,16,11,12,10,17,20,18,17,9,16,21,15,16,19,13,14,15,14,15,17,16,11,17,15,12,16,14,18,16,19,14,11,18,16,20,17,12,14,15,13,13,17,16,17,11,16,16,18,13,14,12,16,17,10,18,17,17,17,12,15,13,17,16,20,20,14,15,15,10,11,11,14,16,13,14,12,13,14,21,17,16,13,13,14,16,16,15,14,12,19,14,13,14,21,14,19,14,15,19,12,17,12,17,14,16,13,16,12,18,13,15,11,13,16,19,18,12,13,14,14,16,18,15,16,11,15,18,14,16,13,15,19,18,10,17,15,16,15,17,10,16,12,13,15,15,14,14,13,16,15,12,17,14,15,16,16,16,12,14,18,13,13,12,16,15,11,15,14,19,11,14,16,15,13,13,17,13,16,18,17,20,20,12,14,18,13,17,18,14,15,14,15,13,12,16,19,14,15,14,16,17,14,15,16,13,8,15,16,17,17,17,17,16,15,16,19,15,18,15,18,13,15,9,16,19,17,17,15,15,14,18,12,21,19,15,15,18,15,13,21,20,16,14,17,20,12,12,11,17,15,17,16,18,10,19,16,14,21,16,11,14,15,18,17,14,16,15,15,12,12,18,12,11,19,12,21,14,13,21,8,12,17,18,18,13,16,18,17,15,12,19,15,17,10,12,19,11,19,15,12,15,14,18,12,14,14,18,15,20,18,16,17,18,15,15,13,11,18,13,13,17,16,9,11,11,13,18,19,12,12,9,10,15,15,17,11,15,16,12,15,17,14,13,15,14,17,14,18,16,10,15,17,14,17,14,13,17,12,15,17,15,14,12,18,9,14,13,19,15,13,15,11,13,12,14,11,19,11,12,17,16,12,14,17,14,16,8,20,13,15,14,20,14,15,12,13,15,16,6,9,15,14,14,16,10,8,16,12,13,15,14,15,19,17,17,10,19,17,15,16,13,14,13,16,12,19,17,16,10,14,13,13,20,15,16,15,16,14,17,16,12,17,16,20,10,16,13,19,16,16,13,10,14,17,15,15,19,18,15,16,15,12,16,15,16,20,12,19,14,11,21,14,14,16,9,9,12,16,14,17,14,11,12,16,14,13,16,15,15,12,11,15,15,20,14,13,17,19,15,19,17,17,14,13,13,10,18,10,18,21,15,15,17,16,15,18,17,13,18,19,13,17,11,12,15,15,14,13,11,16,13,14,14,14,18,17,14,14,15,19,15,18,17,13,14,13,13,20,14,16,14,16,14,14,15,19,12,16,15,19,14,14,11,16,13,18,18,18,13,15,16,19,17,14,17,14,13,13,18,16,14,14,11,13,15,12,19,19,17,16,16,15,15,13,14,16,13,18,12,17,14,14,14,15,18,11,14,16,17,22,18,14,13,14,10,14,14,12,19,16,15,17,12,18,19,14,17,11,18,17,16,15,10,17,16,17,15,14,16,20,12,14,14,16,12,13,20,15,9,18,9,11,17,13,15,12,15,14,21,14,16,16,15,16,12,15,9,14,10,14,15,18,15,15,14,13,12,12,13,18,14,15,14,17,11,8,15,14,16,14,16,16,14,15,15,12,11,17,13,18,16,12,16,16,13,14,11,14,16,16,13,14,14,12,17,19,13,11,13,17,15,16,8,12,15,15,15,17,14,15,16,21,17,14,18,17,15,12,18,16,16,18,17,16,19,17,17,11,16,15,22,17,18,18,14,15,21,13,17,11,15,17,15,11,19,17,14,14,12,17,16,15,15,14,15,11,16,15,14,12,15,15,18,20,16,15,12,18,13,20,15,18,12,15,15,18,15,12,20,14,14,18,14,18,13,15,12,15,13,13,15,19,15,12,21,15,8,18,9,16,15,13,16,14,14,17,13,15,20,16,17,10,14,14,17,11,18,12,13,15,10,15,17,13,19,14,14,14,11,19,12,12,15,19,18,16,11,21,15,17,13,12,15,9,11,16,17,13,20,17,12,14,16,14,16,13,17,16,14,12,13,18,12,15,13,13,14,15,14,12,11,15,15,14,17,14,14,15,17,18,13,18,13,18,15,15,18,20,16,14,19,16,15,21,11,20,13,16,15,13,12,15,14,16,14,12,20,19,14,16,16,15,14,14,16,15,17,14,13,18,13,14,11,13,14,15,14,19,13,15,16,16,10,15,12,11,16,14,13,15,17,14,14,11,15,12,15,14,15,17,14,13,13,14,16,15,17,23,16,16,17,17,16,19,12,18,13,11,16,13,15,13,15,19,7,11,13,15,15,16,17,13,18,12,18,16,13,15,17,16,11,15,16,14,12,13,17,10,16,14,14,17,15,19,18,19,12,10,12,16,13,17,14,17,22,13,15,11,14,14,14,20,19,12,16,17,13,15,12,14,13,13,16,19,15,16,15,19,15,13,13,14,14,18,21,15,19,10,16,10,17,15,13,13,20,16,13,10,15,11,20,16,14,14,16,16,17,16,18,14,11,14,17,12,16,11,14,13,14,19,14,16,17,22,18,17,18,13,16,21,17,12,15,17,12,16,17,16,11,14,20,13,12,15,13,17,14,16,11,16,15,14,19,13,10,10,19,18,14,18,22,14,11,13,13,13,16,12,11,14,12,13,17,16,15,17,13,15,15,20,11,14,12,15,20,16,9,16,15,16,16,14,14,15,11,11,15,12,11,11,12,15,15,16,9,16,15,11,16,16,15,16,18,11,16,17,11,20,19,17,16,14,12,15,16,17,12,15,14,13,20,14,15,10,13,20,19,19,11,14,18,10,12,18,23,16,14,14,15,19,15,14,19,14,13,17,19,15,13,17,17,12,13,18,17,16,19,19,11,18,16,21,18,17,10,20,16,13,18,13,11,11,8,14,14,15,16,16,18,18,15,10,15,13,13,12,10,19,17,14,13,16,11,17,13,17,18,14,14,13,16,14,13,10,16,13,12,14,16,16,12,15,12,19,15,15,18,13,12,12,14,15,15,15,14,16,10,14,14,15,15,13,12,13,6,15,16,13,16,17,12,16,14,10,18,14,16,16,15,14,14,12,14,13,15,12,14,16,17,18,10,19,16,17,20,14,9,15,13,15,15,17,14,14,13,12,12,14,14,13,17,13,11,10,13,17,18,11,17,14,17,12,14,14,20,12,16,15,12,15,16,16,11,15,16,17,21,13,13,20,16,16,17,15,18,18,16,13,19,17,16,20,16,19,18,15,16,16,15,12,13,17,14,11,13,13,17,18,14,14,14,17,10,13,11,22,17,15,16,20,15,7,19,17,16,13,16,18,16,23,11,12,16,15,15,13,15,11,10,12,14,19,14,18,15,16,18,9,17,15,12,14,15,17,15,17,14,14,13,12,13,14,16,15,16,19,13,22,20,11,19,15,12,17,16,14,13,13,18,16,21,15,14,14,16,16,14,16,15,16,14,16,15,13,16,15,17,15,14,12,14,10,16,13,15,15,14,15,16,15,12,16,12,20,14,18,12,10,12,14,10,15,16,11,18,22,11,13,12,16,18,16,15,17,16,14,19,15,18,19,16,15,15,18,15,20,16,17,16,16,14,14,17,14,14,13,12,14,15,18,18,15,10,14,15,18,14,16,11,15,15,14,16,18,13,13,14,17,18,13,14,14,13,11,10,18,13,13,13,17,15,13,17,18,16,15,14,12,21,13,14,19,17,20,9,16,18,18,14,13,17,21,12,14,17,11,13,12,13,14,10,16,15,8,11,15,16,14,14,18,16,15,12,15,15,15,14,17,15,11,16,19,10,16,15,17,13,16,15,14,20,22,15,14,15,14,12,19,18,16,16,13,14,19,14,13,15,14,16,16,14,16,14,13,16,17,13,17,14,15,11,13,18,19,17,14,16,22,17,17,16,9,13,14,15,15,15,14,12,13,16,16,11,20,21,15,16,13,13,12,18,12,16,13,16,18,16,16,10,18,14,19,12,15,14,15,15,18,14,17,19,16,16,14,17,14,14,16,13,15,11,17,10,14,17,18,20,16,10,16,18,22,18,17,14,13,19,14,13,16,14,13,13,13,20,15,14,15,15,18,21,16,14,13,18,13,14,14,17,15,13,17,18,19,15,14,14,15,13,13,19,16,11,19,18,11,13,13,14,16,14,17,18,18,14,16,17,17,17,19,13,16,15,12,14,14,14,16,14,11,16,16,12,15,14,14,12,14,15,14,18,16,20,15,20,18,20,16,11,10,13,15,14,13,11,16,19,17,12,12,14,17,15,20,17,17,12,13,15,18,15,13,16,14,11,21,19,18,14,15,14,17,21,22,14,14,12,12,15,14,10,9,15,18,15,15,17,15,15,16,10,11,18,12,14,15,14,13,15,11,13,12,16,16,13,18,16,10,12,14,12,15,16,14,17,13,15,12,15,23,19,21,16,20,16,16,14,15,14,14,14,21,12,17,17,13,15,12,11,14,18,21,21,13,14,8,17,18,17,13,14,14,17,16,11,12,20,14,14,17,11,14,14,18,15,14,18,19,15,16,14,11,12,14,11,14,15,16,15,12,15,17,17,16,15,21,15,16,10,11,18,12,17,17,9,14,17,12,16,17,15,12,13,15,17,15,11,12,20,19,17,22,17,17,16,14,13,12,14,16,13,16,14,16,15,16,17,15,16,14,13,18,16,12,15,12,16,19,17,14,13,11,21,14,13,11,14,13,18,18,16,11,15,18,13,14,13,20,9,10,13,15,17,14,17,19,11,14,16,14,9,17,12,21,11,17,12,12,13,14,16,12,15,8,17,18,11,16,19,17,22,9,17,14,15,15,16,17,13,13,18,14,14,17,16,16,12,17,18,14,16,11,17,11,13,12,18,13,15,13,16,16,16,14,18,20,13,22,16,15,20,21,9,15,22,11,16,11,15,11,15,14,10,14,15,12,12,12,16,16,11,14,19,16,13,17,12,15,12,15,15,18,17,11,15,16,17,14,21,18,14,18,18,13,14,13,15,13,13,17,14,13,9,14,10,15,18,15,19,11,11,14,15,14,17,21,14,11,15,16,13,17,17,14,13,17,15,13,14,19,16,15,14,14,18,15,9,13,16,17,15,15,14,17,12,19,15,12,19,17,16,17,12,17,17,14,10,9,20,10,17,14,16,15,13,17,10,9,13,17,16,16,13,14,15,19,12,8,15,12,14,14,17,13,16,19,19,11,19,15,14,17,18,13,14,16,16,14,18,13,18,14,15,14,20,13,13,16,15,14,14,17,22,11,16,15,16,16,16,15,15,13,17,12,15,13,17,18,12,17,15,14,13,14,13,12,14,13,17,14,20,16,14,14,13,13,22,11,8,12,16,17,16,13,16,16,18,18,18,14,15,16,17,14,13,17,12,14,15,15,11,10,14,14,12,16,15,17,14,14,14,15,10,14,15,17,16,16,15,13,16,14,20,14,15,11,12,13,14,19,13,12,16,17,18,14,16,18,15,15,11,17,14,19,16,17,13,12,12,16,12,3,18,12,12,18,13,20,14,9,16,11,13,13,13,11,17,11,14,5,18,11,14,15,14,15,12,14,20,14,12,19,10,18,14,18,21,13,17,14,17,13,16,12,14,19,14,15,11,15,15,16,19,12,15,17,11,18,17,10,14,19,14,17,16,15,13,21,19,12,11,19,15,19,9,14,17,16,16,19,17,12,15,18,17,19,16,17,16,12,13,15,13,11,12,11,13,13,19,17,12,13,16,16,14,10,14,20,17,15,15,17,13,15,13,15,15,13,15,20,13,14,15,12,14,15,14,16,12,18,14,13,16,16,14,11,15,19,13,14,13,16,17,17,16,19,11,17,17,16,17,11,11,19,19,13,13,16,15,14,21,14,14,16,18,14,16,18,22,18,14,13,18,16,13,11,19,13,15,17,16,19,11,14,13,15,13,12,14,17,13,14,14,20,16,15,17,15,15,17,12,20,17,14,16,13,17,17,15,16,16,15,15,14,13,19,13,18,17,16,20,14,14,16,20,14,8,15,17,18,12,15,11,14,16,16,13,12,19,14,17,17,16,13,14,11,16,14,12,21,16,16,14,16,21,13,13,13,17,14,13,14,13,22,14,15,18,11,14,13,14,14,17,12,17,12,15,14,15,16,14,15,15,16,18,18,11,9,18,16,15,12,15,20,14,15,16,11,17,19,9,9,16,15,13,16,15,18,14,15,15,12,10,13,13,11,13,14,15,11,13,17,14,10,14,14,13,15,18,14,15,13,15,16,13,17,15,13,11,13,15,13,19,13,16,16,18,11,14,13,13,15,18,20,11,17,18,19,17,16,15,16,16,15,16,17,15,11,14,12,15,13,13,15,12,14,16,12,18,18,20,14,10,14,16,15,14,13,16,14,16,15,12,12,16,14,18,17,16,13,13,13,15,16,17,15,16,17,12,11,14,19,15,17,12,14,15,17,18,15,18,17,15,17,17,15,10,11,18,10,11,18,17,16,16,17,15,17,18,14,13,16,15,21,14,12,18,14,17,18,12,11,9,14,19,13,19,18,15,17,18,20,13,16,15,15,13,13,15,11,17,11,17,19,16,11,14,13,16,15,12,14,19,20,18,14,16,9,14,16,9,7,13,16,11,9,13,18,12,14,13,14,15,14,17,9,16,19,11,17,11,12,15,12,19,16,21,17,20,16,16,15,13,16,15,15,15,16,16,16,14,18,16,17,15,18,13,15,15,14,13,10,14,16,17,15,16,18,17,16,15,13,15,15,16,15,15,16,15,19,13,14,12,15,16,13,17,16,16,17,14,13,13,11,18,15,13,11,16,14,22,11,14,18,13,12,8,17,12,15,15,17,16,16,18,9,18,16,17,19,14,15,18,18,18,12,19,12,13,13,15,17,14,12,19,18,15,15,19,13,13,19,16,15,15,9,14,17,18,19,14,14,15,14,15,11,18,16,10,18,16,16,13,18,11,12,15,16,21,17,14,14,14,16,12,16,16,18,19,12,14,17,16,16,12,15,10,13,19,15,14,15,15,19,15,13,18,16,18,11,18,16,17,15,17,14,16,16,14,13,12,17,18,20,17,13,12,14,16,15,15,13,15,17,12,19,17,11,12,15,20,15,12,13,15,18,13,12,12,18,12,16,16,18,15,13,17,13,17,12,10,11,15,15,16,16,10,16,13,17,13,17,20,18,12,8,15,12,12,17,16,14,13,18,20,20,11,15,19,14,13,16,18,17,16,15,17,15,12,15,18,18,16,14,12,12,15,13,15,18,10,13,15,16,15,18,14,16,14,18,17,13,20,13,19,13,12,14,15,14,22,13,13,19,17,18,16,13,11,17,15,11,13,15,14,18,13,9,13,19,14,12,13,13,16,17,14,23,18,14,16,17,17,12,16,10,12,15,13,10,18,13,15,11,18,15,18,14,19,18,19,14,15,18,17,10,19,15,15,15,7,14,12,13,19,13,17,16,16,16,17,18,18,18,17,17,16,19,17,12,15,9,17,15,19,9,14,19,12,13,18,12,17,18,10,17,17,9,13,17,19,18,17,15,16,12,16,16,12,13,16,11,15,18,14,13,15,15,11,16,20,15,10,14,11,20,12,15,13,19,9,17,15,19,11,11,18,13,15,15,15,15,14,8,18,17,21,10,14,15,17,14,16,15,11,16,16,15,18,19,14,16,12,15,17,9,14,12,14,19,16,18,17,23,17,16,9,12,18,23,14,15,17,14,13,18,12,17,15,14,13,23,17,15,15,17,21,14,15,16,15,13,11,16,13,13,16,13,11,17,13,15,16,13,16,14,16,20,13,13,11,15,15,13,14,17,13,10,11,19,15,15,12,18,13,14,17,19,18,15,16,12,20,14,13,17,9,15,10,18,12,12,19,12,15,14,20,16,16,17,12,13,11,17,15,18,15,14,14,19,16,15,17,14,7,13,17,16,16,12,15,15,16,15,16,12,18,13,17,15,12,9,15,16,12,14,18,16,15,17,14,13,21,14,16,15,14,15,10,20,13,14,15,18,14,11,15,13,13,16,16,16,17,17,14,9,13,14,11,14,16,16,12,18,14,18,18,12,21,11,12,12,12,17,13,17,14,14,17,13,12,19,19,17,15,16,11,17,13,15,15,16,8,13,19,14,17,18,15,17,15,15,15,20,12,14,17,20,16,19,17,15,15,15,17,14,16,16,15,13,13,16,19,15,12,17,10,13,20,19,18,16,17,17,12,16,8,17,17,14,22,18,19,15,20,16,20,11,17,13,11,19,22,15,16,12,13,8,12,18,15,15,16,18,11,16,17,18,17,16,16,13,13,16,11,12,16,13,20,14,10,14,16,15,18,12,14,15,12,13,16,15,19,18,12,15,17,17,12,14,16,18,19,10,14,18,14,11,17,14,17,18,18,14,19,16,12,11,20,14,15,12,9,11,18,13,13,13,15,13,19,15,20,13,15,15,19,10,12,15,15,10,15,15,12,14,14,21,17,16,13,20,16,17,14,22,17,10,16,15,19,13,17,15,17,17,13,17,18,16,18,15,12,16,18,17,16,15,15,14,18,14,14,17,19,12,12,17,19,12,15,15,13,16,14,11,16,18,11,17,16,19,18,18,17,10,17,20,14,13,16,16,14,11,11,14,12,14,11,14,17,14,11,16,15,12,13,13,11,15,14,13,19,22,17,13,15,13,12,15,16,15,16,14,13,13,17,20,18,11,12,21,11,14,20,15,14,14,16,11,10,14,18,14,16,13,14,11,11,18,16,18,22,16,17,14,11,17,12,14,11,14,18,10,12,14,14,9,13,15,17,17,15,13,15,15,11,17,19,14,18,18,12,17,19,19,16,15,19,14,17,20,12,17,13,12,12,20,12,18,10,13,13,12,13,16,15,16,17,17,13,12,20,16,12,18,15,12,16,11,17,19,18,18,20,17,16,15,17,14,13,13,13,12,21,15,6,15,16,11,17,20,12,12,10,16,18,15,17,14,10,14,14,9,16,16,17,19,18,13,19,9,14,13,14,14,20,14,18,14,15,13,18,16,15,18,15,17,20,12,15,16,15,14,13,18,13,9,19,18,13,15,10,15,12,16,18,18,17,12,21,16,11,11,14,12,17,14,11,14,13,17,15,14,15,13,14,18,13,15,16,17,14,12,17,13,14,14,12,14,16,22,16,10,13,17,18,19,13,15,17,14,16,12,18,16,16,13,13,16,12,15,18,18,13,16,15,17,17,13,16,14,15,15,19,14,15,19,14,14,13,18,17,13,12],\"xaxis\":\"x\",\"yaxis\":\"y\",\"type\":\"histogram\"}],                        {\"template\":{\"data\":{\"histogram2dcontour\":[{\"type\":\"histogram2dcontour\",\"colorbar\":{\"outlinewidth\":0,\"ticks\":\"\"},\"colorscale\":[[0.0,\"#0d0887\"],[0.1111111111111111,\"#46039f\"],[0.2222222222222222,\"#7201a8\"],[0.3333333333333333,\"#9c179e\"],[0.4444444444444444,\"#bd3786\"],[0.5555555555555556,\"#d8576b\"],[0.6666666666666666,\"#ed7953\"],[0.7777777777777778,\"#fb9f3a\"],[0.8888888888888888,\"#fdca26\"],[1.0,\"#f0f921\"]]}],\"choropleth\":[{\"type\":\"choropleth\",\"colorbar\":{\"outlinewidth\":0,\"ticks\":\"\"}}],\"histogram2d\":[{\"type\":\"histogram2d\",\"colorbar\":{\"outlinewidth\":0,\"ticks\":\"\"},\"colorscale\":[[0.0,\"#0d0887\"],[0.1111111111111111,\"#46039f\"],[0.2222222222222222,\"#7201a8\"],[0.3333333333333333,\"#9c179e\"],[0.4444444444444444,\"#bd3786\"],[0.5555555555555556,\"#d8576b\"],[0.6666666666666666,\"#ed7953\"],[0.7777777777777778,\"#fb9f3a\"],[0.8888888888888888,\"#fdca26\"],[1.0,\"#f0f921\"]]}],\"heatmap\":[{\"type\":\"heatmap\",\"colorbar\":{\"outlinewidth\":0,\"ticks\":\"\"},\"colorscale\":[[0.0,\"#0d0887\"],[0.1111111111111111,\"#46039f\"],[0.2222222222222222,\"#7201a8\"],[0.3333333333333333,\"#9c179e\"],[0.4444444444444444,\"#bd3786\"],[0.5555555555555556,\"#d8576b\"],[0.6666666666666666,\"#ed7953\"],[0.7777777777777778,\"#fb9f3a\"],[0.8888888888888888,\"#fdca26\"],[1.0,\"#f0f921\"]]}],\"heatmapgl\":[{\"type\":\"heatmapgl\",\"colorbar\":{\"outlinewidth\":0,\"ticks\":\"\"},\"colorscale\":[[0.0,\"#0d0887\"],[0.1111111111111111,\"#46039f\"],[0.2222222222222222,\"#7201a8\"],[0.3333333333333333,\"#9c179e\"],[0.4444444444444444,\"#bd3786\"],[0.5555555555555556,\"#d8576b\"],[0.6666666666666666,\"#ed7953\"],[0.7777777777777778,\"#fb9f3a\"],[0.8888888888888888,\"#fdca26\"],[1.0,\"#f0f921\"]]}],\"contourcarpet\":[{\"type\":\"contourcarpet\",\"colorbar\":{\"outlinewidth\":0,\"ticks\":\"\"}}],\"contour\":[{\"type\":\"contour\",\"colorbar\":{\"outlinewidth\":0,\"ticks\":\"\"},\"colorscale\":[[0.0,\"#0d0887\"],[0.1111111111111111,\"#46039f\"],[0.2222222222222222,\"#7201a8\"],[0.3333333333333333,\"#9c179e\"],[0.4444444444444444,\"#bd3786\"],[0.5555555555555556,\"#d8576b\"],[0.6666666666666666,\"#ed7953\"],[0.7777777777777778,\"#fb9f3a\"],[0.8888888888888888,\"#fdca26\"],[1.0,\"#f0f921\"]]}],\"surface\":[{\"type\":\"surface\",\"colorbar\":{\"outlinewidth\":0,\"ticks\":\"\"},\"colorscale\":[[0.0,\"#0d0887\"],[0.1111111111111111,\"#46039f\"],[0.2222222222222222,\"#7201a8\"],[0.3333333333333333,\"#9c179e\"],[0.4444444444444444,\"#bd3786\"],[0.5555555555555556,\"#d8576b\"],[0.6666666666666666,\"#ed7953\"],[0.7777777777777778,\"#fb9f3a\"],[0.8888888888888888,\"#fdca26\"],[1.0,\"#f0f921\"]]}],\"mesh3d\":[{\"type\":\"mesh3d\",\"colorbar\":{\"outlinewidth\":0,\"ticks\":\"\"}}],\"scatter\":[{\"fillpattern\":{\"fillmode\":\"overlay\",\"size\":10,\"solidity\":0.2},\"type\":\"scatter\"}],\"parcoords\":[{\"type\":\"parcoords\",\"line\":{\"colorbar\":{\"outlinewidth\":0,\"ticks\":\"\"}}}],\"scatterpolargl\":[{\"type\":\"scatterpolargl\",\"marker\":{\"colorbar\":{\"outlinewidth\":0,\"ticks\":\"\"}}}],\"bar\":[{\"error_x\":{\"color\":\"#2a3f5f\"},\"error_y\":{\"color\":\"#2a3f5f\"},\"marker\":{\"line\":{\"color\":\"#E5ECF6\",\"width\":0.5},\"pattern\":{\"fillmode\":\"overlay\",\"size\":10,\"solidity\":0.2}},\"type\":\"bar\"}],\"scattergeo\":[{\"type\":\"scattergeo\",\"marker\":{\"colorbar\":{\"outlinewidth\":0,\"ticks\":\"\"}}}],\"scatterpolar\":[{\"type\":\"scatterpolar\",\"marker\":{\"colorbar\":{\"outlinewidth\":0,\"ticks\":\"\"}}}],\"histogram\":[{\"marker\":{\"pattern\":{\"fillmode\":\"overlay\",\"size\":10,\"solidity\":0.2}},\"type\":\"histogram\"}],\"scattergl\":[{\"type\":\"scattergl\",\"marker\":{\"colorbar\":{\"outlinewidth\":0,\"ticks\":\"\"}}}],\"scatter3d\":[{\"type\":\"scatter3d\",\"line\":{\"colorbar\":{\"outlinewidth\":0,\"ticks\":\"\"}},\"marker\":{\"colorbar\":{\"outlinewidth\":0,\"ticks\":\"\"}}}],\"scattermapbox\":[{\"type\":\"scattermapbox\",\"marker\":{\"colorbar\":{\"outlinewidth\":0,\"ticks\":\"\"}}}],\"scatterternary\":[{\"type\":\"scatterternary\",\"marker\":{\"colorbar\":{\"outlinewidth\":0,\"ticks\":\"\"}}}],\"scattercarpet\":[{\"type\":\"scattercarpet\",\"marker\":{\"colorbar\":{\"outlinewidth\":0,\"ticks\":\"\"}}}],\"carpet\":[{\"aaxis\":{\"endlinecolor\":\"#2a3f5f\",\"gridcolor\":\"white\",\"linecolor\":\"white\",\"minorgridcolor\":\"white\",\"startlinecolor\":\"#2a3f5f\"},\"baxis\":{\"endlinecolor\":\"#2a3f5f\",\"gridcolor\":\"white\",\"linecolor\":\"white\",\"minorgridcolor\":\"white\",\"startlinecolor\":\"#2a3f5f\"},\"type\":\"carpet\"}],\"table\":[{\"cells\":{\"fill\":{\"color\":\"#EBF0F8\"},\"line\":{\"color\":\"white\"}},\"header\":{\"fill\":{\"color\":\"#C8D4E3\"},\"line\":{\"color\":\"white\"}},\"type\":\"table\"}],\"barpolar\":[{\"marker\":{\"line\":{\"color\":\"#E5ECF6\",\"width\":0.5},\"pattern\":{\"fillmode\":\"overlay\",\"size\":10,\"solidity\":0.2}},\"type\":\"barpolar\"}],\"pie\":[{\"automargin\":true,\"type\":\"pie\"}]},\"layout\":{\"autotypenumbers\":\"strict\",\"colorway\":[\"#636efa\",\"#EF553B\",\"#00cc96\",\"#ab63fa\",\"#FFA15A\",\"#19d3f3\",\"#FF6692\",\"#B6E880\",\"#FF97FF\",\"#FECB52\"],\"font\":{\"color\":\"#2a3f5f\"},\"hovermode\":\"closest\",\"hoverlabel\":{\"align\":\"left\"},\"paper_bgcolor\":\"white\",\"plot_bgcolor\":\"#E5ECF6\",\"polar\":{\"bgcolor\":\"#E5ECF6\",\"angularaxis\":{\"gridcolor\":\"white\",\"linecolor\":\"white\",\"ticks\":\"\"},\"radialaxis\":{\"gridcolor\":\"white\",\"linecolor\":\"white\",\"ticks\":\"\"}},\"ternary\":{\"bgcolor\":\"#E5ECF6\",\"aaxis\":{\"gridcolor\":\"white\",\"linecolor\":\"white\",\"ticks\":\"\"},\"baxis\":{\"gridcolor\":\"white\",\"linecolor\":\"white\",\"ticks\":\"\"},\"caxis\":{\"gridcolor\":\"white\",\"linecolor\":\"white\",\"ticks\":\"\"}},\"coloraxis\":{\"colorbar\":{\"outlinewidth\":0,\"ticks\":\"\"}},\"colorscale\":{\"sequential\":[[0.0,\"#0d0887\"],[0.1111111111111111,\"#46039f\"],[0.2222222222222222,\"#7201a8\"],[0.3333333333333333,\"#9c179e\"],[0.4444444444444444,\"#bd3786\"],[0.5555555555555556,\"#d8576b\"],[0.6666666666666666,\"#ed7953\"],[0.7777777777777778,\"#fb9f3a\"],[0.8888888888888888,\"#fdca26\"],[1.0,\"#f0f921\"]],\"sequentialminus\":[[0.0,\"#0d0887\"],[0.1111111111111111,\"#46039f\"],[0.2222222222222222,\"#7201a8\"],[0.3333333333333333,\"#9c179e\"],[0.4444444444444444,\"#bd3786\"],[0.5555555555555556,\"#d8576b\"],[0.6666666666666666,\"#ed7953\"],[0.7777777777777778,\"#fb9f3a\"],[0.8888888888888888,\"#fdca26\"],[1.0,\"#f0f921\"]],\"diverging\":[[0,\"#8e0152\"],[0.1,\"#c51b7d\"],[0.2,\"#de77ae\"],[0.3,\"#f1b6da\"],[0.4,\"#fde0ef\"],[0.5,\"#f7f7f7\"],[0.6,\"#e6f5d0\"],[0.7,\"#b8e186\"],[0.8,\"#7fbc41\"],[0.9,\"#4d9221\"],[1,\"#276419\"]]},\"xaxis\":{\"gridcolor\":\"white\",\"linecolor\":\"white\",\"ticks\":\"\",\"title\":{\"standoff\":15},\"zerolinecolor\":\"white\",\"automargin\":true,\"zerolinewidth\":2},\"yaxis\":{\"gridcolor\":\"white\",\"linecolor\":\"white\",\"ticks\":\"\",\"title\":{\"standoff\":15},\"zerolinecolor\":\"white\",\"automargin\":true,\"zerolinewidth\":2},\"scene\":{\"xaxis\":{\"backgroundcolor\":\"#E5ECF6\",\"gridcolor\":\"white\",\"linecolor\":\"white\",\"showbackground\":true,\"ticks\":\"\",\"zerolinecolor\":\"white\",\"gridwidth\":2},\"yaxis\":{\"backgroundcolor\":\"#E5ECF6\",\"gridcolor\":\"white\",\"linecolor\":\"white\",\"showbackground\":true,\"ticks\":\"\",\"zerolinecolor\":\"white\",\"gridwidth\":2},\"zaxis\":{\"backgroundcolor\":\"#E5ECF6\",\"gridcolor\":\"white\",\"linecolor\":\"white\",\"showbackground\":true,\"ticks\":\"\",\"zerolinecolor\":\"white\",\"gridwidth\":2}},\"shapedefaults\":{\"line\":{\"color\":\"#2a3f5f\"}},\"annotationdefaults\":{\"arrowcolor\":\"#2a3f5f\",\"arrowhead\":0,\"arrowwidth\":1},\"geo\":{\"bgcolor\":\"white\",\"landcolor\":\"#E5ECF6\",\"subunitcolor\":\"white\",\"showland\":true,\"showlakes\":true,\"lakecolor\":\"white\"},\"title\":{\"x\":0.05},\"mapbox\":{\"style\":\"light\"}}},\"xaxis\":{\"anchor\":\"y\",\"domain\":[0.0,1.0],\"title\":{\"text\":\"x\"}},\"yaxis\":{\"anchor\":\"x\",\"domain\":[0.0,1.0],\"title\":{\"text\":\"count\"}},\"legend\":{\"tracegroupgap\":0},\"title\":{\"text\":\"The binomial distribution\"},\"barmode\":\"relative\",\"height\":400,\"width\":600},                        {\"responsive\": true}                    ).then(function(){\n",
              "                            \n",
              "var gd = document.getElementById('1612c31a-93ff-4801-abc8-4255b0b5d68c');\n",
              "var x = new MutationObserver(function (mutations, observer) {{\n",
              "        var display = window.getComputedStyle(gd).display;\n",
              "        if (!display || display === 'none') {{\n",
              "            console.log([gd, 'removed!']);\n",
              "            Plotly.purge(gd);\n",
              "            observer.disconnect();\n",
              "        }}\n",
              "}});\n",
              "\n",
              "// Listen for the removal of the full notebook cells\n",
              "var notebookContainer = gd.closest('#notebook-container');\n",
              "if (notebookContainer) {{\n",
              "    x.observe(notebookContainer, {childList: true});\n",
              "}}\n",
              "\n",
              "// Listen for the clearing of the current output cell\n",
              "var outputEl = gd.closest('.output');\n",
              "if (outputEl) {{\n",
              "    x.observe(outputEl, {childList: true});\n",
              "}}\n",
              "\n",
              "                        })                };                            </script>        </div>\n",
              "</body>\n",
              "</html>"
            ]
          },
          "metadata": {}
        }
      ],
      "source": [
        "fig = px.histogram(\n",
        "    x=x,\n",
        "    title=\"The binomial distribution\",\n",
        "    width=600,\n",
        "    height=400\n",
        ")\n",
        "fig.show()"
      ]
    },
    {
      "cell_type": "markdown",
      "metadata": {
        "id": "v0gmADhLTNJY"
      },
      "source": [
        "### Bokeh\n",
        "\n",
        "Here's how to import bokeh and activate it for use in a notebook."
      ]
    },
    {
      "cell_type": "code",
      "execution_count": 14,
      "metadata": {
        "id": "cSjm8O4VkQEU"
      },
      "outputs": [],
      "source": [
        "import bokeh.plotting as bkplt\n",
        "import bokeh.io as bkio\n",
        "bkio.output_notebook()"
      ]
    },
    {
      "cell_type": "markdown",
      "metadata": {
        "id": "EIcZvJbX6xBv"
      },
      "source": [
        "Here's how to make a histogram."
      ]
    },
    {
      "cell_type": "code",
      "execution_count": 15,
      "metadata": {
        "colab": {
          "base_uri": "https://localhost:8080/",
          "height": 417
        },
        "id": "Kn-nNT2TkQ8h",
        "outputId": "a5a42cd0-dcb3-4b27-ecb7-e72adf22b2da"
      },
      "outputs": [
        {
          "output_type": "display_data",
          "data": {
            "application/javascript": [
              "(function(root) {\n",
              "  function now() {\n",
              "    return new Date();\n",
              "  }\n",
              "\n",
              "  const force = true;\n",
              "\n",
              "  if (typeof root._bokeh_onload_callbacks === \"undefined\" || force === true) {\n",
              "    root._bokeh_onload_callbacks = [];\n",
              "    root._bokeh_is_loading = undefined;\n",
              "  }\n",
              "\n",
              "const JS_MIME_TYPE = 'application/javascript';\n",
              "  const HTML_MIME_TYPE = 'text/html';\n",
              "  const EXEC_MIME_TYPE = 'application/vnd.bokehjs_exec.v0+json';\n",
              "  const CLASS_NAME = 'output_bokeh rendered_html';\n",
              "\n",
              "  /**\n",
              "   * Render data to the DOM node\n",
              "   */\n",
              "  function render(props, node) {\n",
              "    const script = document.createElement(\"script\");\n",
              "    node.appendChild(script);\n",
              "  }\n",
              "\n",
              "  /**\n",
              "   * Handle when an output is cleared or removed\n",
              "   */\n",
              "  function handleClearOutput(event, handle) {\n",
              "    const cell = handle.cell;\n",
              "\n",
              "    const id = cell.output_area._bokeh_element_id;\n",
              "    const server_id = cell.output_area._bokeh_server_id;\n",
              "    // Clean up Bokeh references\n",
              "    if (id != null && id in Bokeh.index) {\n",
              "      Bokeh.index[id].model.document.clear();\n",
              "      delete Bokeh.index[id];\n",
              "    }\n",
              "\n",
              "    if (server_id !== undefined) {\n",
              "      // Clean up Bokeh references\n",
              "      const cmd_clean = \"from bokeh.io.state import curstate; print(curstate().uuid_to_server['\" + server_id + \"'].get_sessions()[0].document.roots[0]._id)\";\n",
              "      cell.notebook.kernel.execute(cmd_clean, {\n",
              "        iopub: {\n",
              "          output: function(msg) {\n",
              "            const id = msg.content.text.trim();\n",
              "            if (id in Bokeh.index) {\n",
              "              Bokeh.index[id].model.document.clear();\n",
              "              delete Bokeh.index[id];\n",
              "            }\n",
              "          }\n",
              "        }\n",
              "      });\n",
              "      // Destroy server and session\n",
              "      const cmd_destroy = \"import bokeh.io.notebook as ion; ion.destroy_server('\" + server_id + \"')\";\n",
              "      cell.notebook.kernel.execute(cmd_destroy);\n",
              "    }\n",
              "  }\n",
              "\n",
              "  /**\n",
              "   * Handle when a new output is added\n",
              "   */\n",
              "  function handleAddOutput(event, handle) {\n",
              "    const output_area = handle.output_area;\n",
              "    const output = handle.output;\n",
              "\n",
              "    // limit handleAddOutput to display_data with EXEC_MIME_TYPE content only\n",
              "    if ((output.output_type != \"display_data\") || (!Object.prototype.hasOwnProperty.call(output.data, EXEC_MIME_TYPE))) {\n",
              "      return\n",
              "    }\n",
              "\n",
              "    const toinsert = output_area.element.find(\".\" + CLASS_NAME.split(' ')[0]);\n",
              "\n",
              "    if (output.metadata[EXEC_MIME_TYPE][\"id\"] !== undefined) {\n",
              "      toinsert[toinsert.length - 1].firstChild.textContent = output.data[JS_MIME_TYPE];\n",
              "      // store reference to embed id on output_area\n",
              "      output_area._bokeh_element_id = output.metadata[EXEC_MIME_TYPE][\"id\"];\n",
              "    }\n",
              "    if (output.metadata[EXEC_MIME_TYPE][\"server_id\"] !== undefined) {\n",
              "      const bk_div = document.createElement(\"div\");\n",
              "      bk_div.innerHTML = output.data[HTML_MIME_TYPE];\n",
              "      const script_attrs = bk_div.children[0].attributes;\n",
              "      for (let i = 0; i < script_attrs.length; i++) {\n",
              "        toinsert[toinsert.length - 1].firstChild.setAttribute(script_attrs[i].name, script_attrs[i].value);\n",
              "        toinsert[toinsert.length - 1].firstChild.textContent = bk_div.children[0].textContent\n",
              "      }\n",
              "      // store reference to server id on output_area\n",
              "      output_area._bokeh_server_id = output.metadata[EXEC_MIME_TYPE][\"server_id\"];\n",
              "    }\n",
              "  }\n",
              "\n",
              "  function register_renderer(events, OutputArea) {\n",
              "\n",
              "    function append_mime(data, metadata, element) {\n",
              "      // create a DOM node to render to\n",
              "      const toinsert = this.create_output_subarea(\n",
              "        metadata,\n",
              "        CLASS_NAME,\n",
              "        EXEC_MIME_TYPE\n",
              "      );\n",
              "      this.keyboard_manager.register_events(toinsert);\n",
              "      // Render to node\n",
              "      const props = {data: data, metadata: metadata[EXEC_MIME_TYPE]};\n",
              "      render(props, toinsert[toinsert.length - 1]);\n",
              "      element.append(toinsert);\n",
              "      return toinsert\n",
              "    }\n",
              "\n",
              "    /* Handle when an output is cleared or removed */\n",
              "    events.on('clear_output.CodeCell', handleClearOutput);\n",
              "    events.on('delete.Cell', handleClearOutput);\n",
              "\n",
              "    /* Handle when a new output is added */\n",
              "    events.on('output_added.OutputArea', handleAddOutput);\n",
              "\n",
              "    /**\n",
              "     * Register the mime type and append_mime function with output_area\n",
              "     */\n",
              "    OutputArea.prototype.register_mime_type(EXEC_MIME_TYPE, append_mime, {\n",
              "      /* Is output safe? */\n",
              "      safe: true,\n",
              "      /* Index of renderer in `output_area.display_order` */\n",
              "      index: 0\n",
              "    });\n",
              "  }\n",
              "\n",
              "  // register the mime type if in Jupyter Notebook environment and previously unregistered\n",
              "  if (root.Jupyter !== undefined) {\n",
              "    const events = require('base/js/events');\n",
              "    const OutputArea = require('notebook/js/outputarea').OutputArea;\n",
              "\n",
              "    if (OutputArea.prototype.mime_types().indexOf(EXEC_MIME_TYPE) == -1) {\n",
              "      register_renderer(events, OutputArea);\n",
              "    }\n",
              "  }\n",
              "  if (typeof (root._bokeh_timeout) === \"undefined\" || force === true) {\n",
              "    root._bokeh_timeout = Date.now() + 5000;\n",
              "    root._bokeh_failed_load = false;\n",
              "  }\n",
              "\n",
              "  const NB_LOAD_WARNING = {'data': {'text/html':\n",
              "     \"<div style='background-color: #fdd'>\\n\"+\n",
              "     \"<p>\\n\"+\n",
              "     \"BokehJS does not appear to have successfully loaded. If loading BokehJS from CDN, this \\n\"+\n",
              "     \"may be due to a slow or bad network connection. Possible fixes:\\n\"+\n",
              "     \"</p>\\n\"+\n",
              "     \"<ul>\\n\"+\n",
              "     \"<li>re-rerun `output_notebook()` to attempt to load from CDN again, or</li>\\n\"+\n",
              "     \"<li>use INLINE resources instead, as so:</li>\\n\"+\n",
              "     \"</ul>\\n\"+\n",
              "     \"<code>\\n\"+\n",
              "     \"from bokeh.resources import INLINE\\n\"+\n",
              "     \"output_notebook(resources=INLINE)\\n\"+\n",
              "     \"</code>\\n\"+\n",
              "     \"</div>\"}};\n",
              "\n",
              "  function display_loaded() {\n",
              "    const el = document.getElementById(null);\n",
              "    if (el != null) {\n",
              "      el.textContent = \"BokehJS is loading...\";\n",
              "    }\n",
              "    if (root.Bokeh !== undefined) {\n",
              "      if (el != null) {\n",
              "        el.textContent = \"BokehJS \" + root.Bokeh.version + \" successfully loaded.\";\n",
              "      }\n",
              "    } else if (Date.now() < root._bokeh_timeout) {\n",
              "      setTimeout(display_loaded, 100)\n",
              "    }\n",
              "  }\n",
              "\n",
              "  function run_callbacks() {\n",
              "    try {\n",
              "      root._bokeh_onload_callbacks.forEach(function(callback) {\n",
              "        if (callback != null)\n",
              "          callback();\n",
              "      });\n",
              "    } finally {\n",
              "      delete root._bokeh_onload_callbacks\n",
              "    }\n",
              "    console.debug(\"Bokeh: all callbacks have finished\");\n",
              "  }\n",
              "\n",
              "  function load_libs(css_urls, js_urls, callback) {\n",
              "    if (css_urls == null) css_urls = [];\n",
              "    if (js_urls == null) js_urls = [];\n",
              "\n",
              "    root._bokeh_onload_callbacks.push(callback);\n",
              "    if (root._bokeh_is_loading > 0) {\n",
              "      console.debug(\"Bokeh: BokehJS is being loaded, scheduling callback at\", now());\n",
              "      return null;\n",
              "    }\n",
              "    if (js_urls == null || js_urls.length === 0) {\n",
              "      run_callbacks();\n",
              "      return null;\n",
              "    }\n",
              "    console.debug(\"Bokeh: BokehJS not loaded, scheduling load and callback at\", now());\n",
              "    root._bokeh_is_loading = css_urls.length + js_urls.length;\n",
              "\n",
              "    function on_load() {\n",
              "      root._bokeh_is_loading--;\n",
              "      if (root._bokeh_is_loading === 0) {\n",
              "        console.debug(\"Bokeh: all BokehJS libraries/stylesheets loaded\");\n",
              "        run_callbacks()\n",
              "      }\n",
              "    }\n",
              "\n",
              "    function on_error(url) {\n",
              "      console.error(\"failed to load \" + url);\n",
              "    }\n",
              "\n",
              "    for (let i = 0; i < css_urls.length; i++) {\n",
              "      const url = css_urls[i];\n",
              "      const element = document.createElement(\"link\");\n",
              "      element.onload = on_load;\n",
              "      element.onerror = on_error.bind(null, url);\n",
              "      element.rel = \"stylesheet\";\n",
              "      element.type = \"text/css\";\n",
              "      element.href = url;\n",
              "      console.debug(\"Bokeh: injecting link tag for BokehJS stylesheet: \", url);\n",
              "      document.body.appendChild(element);\n",
              "    }\n",
              "\n",
              "    for (let i = 0; i < js_urls.length; i++) {\n",
              "      const url = js_urls[i];\n",
              "      const element = document.createElement('script');\n",
              "      element.onload = on_load;\n",
              "      element.onerror = on_error.bind(null, url);\n",
              "      element.async = false;\n",
              "      element.src = url;\n",
              "      console.debug(\"Bokeh: injecting script tag for BokehJS library: \", url);\n",
              "      document.head.appendChild(element);\n",
              "    }\n",
              "  };\n",
              "\n",
              "  function inject_raw_css(css) {\n",
              "    const element = document.createElement(\"style\");\n",
              "    element.appendChild(document.createTextNode(css));\n",
              "    document.body.appendChild(element);\n",
              "  }\n",
              "\n",
              "  const js_urls = [\"https://cdn.bokeh.org/bokeh/release/bokeh-3.2.1.min.js\", \"https://cdn.bokeh.org/bokeh/release/bokeh-gl-3.2.1.min.js\", \"https://cdn.bokeh.org/bokeh/release/bokeh-widgets-3.2.1.min.js\", \"https://cdn.bokeh.org/bokeh/release/bokeh-tables-3.2.1.min.js\", \"https://cdn.bokeh.org/bokeh/release/bokeh-mathjax-3.2.1.min.js\"];\n",
              "  const css_urls = [];\n",
              "\n",
              "  const inline_js = [    function(Bokeh) {\n",
              "      Bokeh.set_log_level(\"info\");\n",
              "    },\n",
              "function(Bokeh) {\n",
              "    }\n",
              "  ];\n",
              "\n",
              "  function run_inline_js() {\n",
              "    if (root.Bokeh !== undefined || force === true) {\n",
              "          for (let i = 0; i < inline_js.length; i++) {\n",
              "      inline_js[i].call(root, root.Bokeh);\n",
              "    }\n",
              "} else if (Date.now() < root._bokeh_timeout) {\n",
              "      setTimeout(run_inline_js, 100);\n",
              "    } else if (!root._bokeh_failed_load) {\n",
              "      console.log(\"Bokeh: BokehJS failed to load within specified timeout.\");\n",
              "      root._bokeh_failed_load = true;\n",
              "    } else if (force !== true) {\n",
              "      const cell = $(document.getElementById(null)).parents('.cell').data().cell;\n",
              "      cell.output_area.append_execute_result(NB_LOAD_WARNING)\n",
              "    }\n",
              "  }\n",
              "\n",
              "  if (root._bokeh_is_loading === 0) {\n",
              "    console.debug(\"Bokeh: BokehJS loaded, going straight to plotting\");\n",
              "    run_inline_js();\n",
              "  } else {\n",
              "    load_libs(css_urls, js_urls, function() {\n",
              "      console.debug(\"Bokeh: BokehJS plotting callback run at\", now());\n",
              "      run_inline_js();\n",
              "    });\n",
              "  }\n",
              "}(window));"
            ],
            "application/vnd.bokehjs_load.v0+json": "(function(root) {\n  function now() {\n    return new Date();\n  }\n\n  const force = true;\n\n  if (typeof root._bokeh_onload_callbacks === \"undefined\" || force === true) {\n    root._bokeh_onload_callbacks = [];\n    root._bokeh_is_loading = undefined;\n  }\n\n\n  if (typeof (root._bokeh_timeout) === \"undefined\" || force === true) {\n    root._bokeh_timeout = Date.now() + 5000;\n    root._bokeh_failed_load = false;\n  }\n\n  const NB_LOAD_WARNING = {'data': {'text/html':\n     \"<div style='background-color: #fdd'>\\n\"+\n     \"<p>\\n\"+\n     \"BokehJS does not appear to have successfully loaded. If loading BokehJS from CDN, this \\n\"+\n     \"may be due to a slow or bad network connection. Possible fixes:\\n\"+\n     \"</p>\\n\"+\n     \"<ul>\\n\"+\n     \"<li>re-rerun `output_notebook()` to attempt to load from CDN again, or</li>\\n\"+\n     \"<li>use INLINE resources instead, as so:</li>\\n\"+\n     \"</ul>\\n\"+\n     \"<code>\\n\"+\n     \"from bokeh.resources import INLINE\\n\"+\n     \"output_notebook(resources=INLINE)\\n\"+\n     \"</code>\\n\"+\n     \"</div>\"}};\n\n  function display_loaded() {\n    const el = document.getElementById(null);\n    if (el != null) {\n      el.textContent = \"BokehJS is loading...\";\n    }\n    if (root.Bokeh !== undefined) {\n      if (el != null) {\n        el.textContent = \"BokehJS \" + root.Bokeh.version + \" successfully loaded.\";\n      }\n    } else if (Date.now() < root._bokeh_timeout) {\n      setTimeout(display_loaded, 100)\n    }\n  }\n\n  function run_callbacks() {\n    try {\n      root._bokeh_onload_callbacks.forEach(function(callback) {\n        if (callback != null)\n          callback();\n      });\n    } finally {\n      delete root._bokeh_onload_callbacks\n    }\n    console.debug(\"Bokeh: all callbacks have finished\");\n  }\n\n  function load_libs(css_urls, js_urls, callback) {\n    if (css_urls == null) css_urls = [];\n    if (js_urls == null) js_urls = [];\n\n    root._bokeh_onload_callbacks.push(callback);\n    if (root._bokeh_is_loading > 0) {\n      console.debug(\"Bokeh: BokehJS is being loaded, scheduling callback at\", now());\n      return null;\n    }\n    if (js_urls == null || js_urls.length === 0) {\n      run_callbacks();\n      return null;\n    }\n    console.debug(\"Bokeh: BokehJS not loaded, scheduling load and callback at\", now());\n    root._bokeh_is_loading = css_urls.length + js_urls.length;\n\n    function on_load() {\n      root._bokeh_is_loading--;\n      if (root._bokeh_is_loading === 0) {\n        console.debug(\"Bokeh: all BokehJS libraries/stylesheets loaded\");\n        run_callbacks()\n      }\n    }\n\n    function on_error(url) {\n      console.error(\"failed to load \" + url);\n    }\n\n    for (let i = 0; i < css_urls.length; i++) {\n      const url = css_urls[i];\n      const element = document.createElement(\"link\");\n      element.onload = on_load;\n      element.onerror = on_error.bind(null, url);\n      element.rel = \"stylesheet\";\n      element.type = \"text/css\";\n      element.href = url;\n      console.debug(\"Bokeh: injecting link tag for BokehJS stylesheet: \", url);\n      document.body.appendChild(element);\n    }\n\n    for (let i = 0; i < js_urls.length; i++) {\n      const url = js_urls[i];\n      const element = document.createElement('script');\n      element.onload = on_load;\n      element.onerror = on_error.bind(null, url);\n      element.async = false;\n      element.src = url;\n      console.debug(\"Bokeh: injecting script tag for BokehJS library: \", url);\n      document.head.appendChild(element);\n    }\n  };\n\n  function inject_raw_css(css) {\n    const element = document.createElement(\"style\");\n    element.appendChild(document.createTextNode(css));\n    document.body.appendChild(element);\n  }\n\n  const js_urls = [\"https://cdn.bokeh.org/bokeh/release/bokeh-3.2.1.min.js\", \"https://cdn.bokeh.org/bokeh/release/bokeh-gl-3.2.1.min.js\", \"https://cdn.bokeh.org/bokeh/release/bokeh-widgets-3.2.1.min.js\", \"https://cdn.bokeh.org/bokeh/release/bokeh-tables-3.2.1.min.js\", \"https://cdn.bokeh.org/bokeh/release/bokeh-mathjax-3.2.1.min.js\"];\n  const css_urls = [];\n\n  const inline_js = [    function(Bokeh) {\n      Bokeh.set_log_level(\"info\");\n    },\nfunction(Bokeh) {\n    }\n  ];\n\n  function run_inline_js() {\n    if (root.Bokeh !== undefined || force === true) {\n          for (let i = 0; i < inline_js.length; i++) {\n      inline_js[i].call(root, root.Bokeh);\n    }\n} else if (Date.now() < root._bokeh_timeout) {\n      setTimeout(run_inline_js, 100);\n    } else if (!root._bokeh_failed_load) {\n      console.log(\"Bokeh: BokehJS failed to load within specified timeout.\");\n      root._bokeh_failed_load = true;\n    } else if (force !== true) {\n      const cell = $(document.getElementById(null)).parents('.cell').data().cell;\n      cell.output_area.append_execute_result(NB_LOAD_WARNING)\n    }\n  }\n\n  if (root._bokeh_is_loading === 0) {\n    console.debug(\"Bokeh: BokehJS loaded, going straight to plotting\");\n    run_inline_js();\n  } else {\n    load_libs(css_urls, js_urls, function() {\n      console.debug(\"Bokeh: BokehJS plotting callback run at\", now());\n      run_inline_js();\n    });\n  }\n}(window));"
          },
          "metadata": {}
        },
        {
          "output_type": "display_data",
          "data": {
            "text/html": [
              "\n",
              "  <div id=\"c12f4554-b50c-4356-b5c7-82322b50f34c\" data-root-id=\"p1001\" style=\"display: contents;\"></div>\n"
            ]
          },
          "metadata": {}
        },
        {
          "output_type": "display_data",
          "data": {
            "application/javascript": [
              "(function(root) {\n",
              "  function embed_document(root) {\n",
              "  const docs_json = {\"852fb663-43f4-4212-9be1-7689bd95bc4f\":{\"version\":\"3.2.1\",\"title\":\"Bokeh Application\",\"roots\":[{\"type\":\"object\",\"name\":\"Figure\",\"id\":\"p1001\",\"attributes\":{\"height\":400,\"x_range\":{\"type\":\"object\",\"name\":\"DataRange1d\",\"id\":\"p1002\"},\"y_range\":{\"type\":\"object\",\"name\":\"DataRange1d\",\"id\":\"p1003\"},\"x_scale\":{\"type\":\"object\",\"name\":\"LinearScale\",\"id\":\"p1011\"},\"y_scale\":{\"type\":\"object\",\"name\":\"LinearScale\",\"id\":\"p1012\"},\"title\":{\"type\":\"object\",\"name\":\"Title\",\"id\":\"p1004\",\"attributes\":{\"text\":\"The binomial distribution\"}},\"renderers\":[{\"type\":\"object\",\"name\":\"GlyphRenderer\",\"id\":\"p1036\",\"attributes\":{\"data_source\":{\"type\":\"object\",\"name\":\"ColumnDataSource\",\"id\":\"p1030\",\"attributes\":{\"selected\":{\"type\":\"object\",\"name\":\"Selection\",\"id\":\"p1031\",\"attributes\":{\"indices\":[],\"line_indices\":[]}},\"selection_policy\":{\"type\":\"object\",\"name\":\"UnionRenderers\",\"id\":\"p1032\"},\"data\":{\"type\":\"map\",\"entries\":[[\"top\",{\"type\":\"ndarray\",\"array\":{\"type\":\"bytes\",\"data\":\"AgAAABgAAADLAAAAFgMAAJMHAAB+EAAAawcAAMUCAAC9AAAAFwAAAA==\"},\"shape\":[10],\"dtype\":\"int32\",\"order\":\"little\"}],[\"left\",{\"type\":\"ndarray\",\"array\":{\"type\":\"bytes\",\"data\":\"AAAAAAAACEDNzMzMzMwUQJqZmZmZmR1ANDMzMzMzI0CamZmZmZknQAAAAAAAACxANDMzMzMzMEBnZmZmZmYyQJqZmZmZmTRAzczMzMzMNkA=\"},\"shape\":[10],\"dtype\":\"float64\",\"order\":\"little\"}],[\"right\",{\"type\":\"ndarray\",\"array\":{\"type\":\"bytes\",\"data\":\"zczMzMzMFECamZmZmZkdQDQzMzMzMyNAmpmZmZmZJ0AAAAAAAAAsQDQzMzMzMzBAZ2ZmZmZmMkCamZmZmZk0QM3MzMzMzDZAAAAAAAAAOUA=\"},\"shape\":[10],\"dtype\":\"float64\",\"order\":\"little\"}]]}}},\"view\":{\"type\":\"object\",\"name\":\"CDSView\",\"id\":\"p1037\",\"attributes\":{\"filter\":{\"type\":\"object\",\"name\":\"AllIndices\",\"id\":\"p1038\"}}},\"glyph\":{\"type\":\"object\",\"name\":\"Quad\",\"id\":\"p1033\",\"attributes\":{\"left\":{\"type\":\"field\",\"field\":\"left\"},\"right\":{\"type\":\"field\",\"field\":\"right\"},\"bottom\":{\"type\":\"value\",\"value\":0},\"top\":{\"type\":\"field\",\"field\":\"top\"},\"line_color\":{\"type\":\"value\",\"value\":\"#1f77b4\"},\"fill_color\":{\"type\":\"value\",\"value\":\"#1f77b4\"}}},\"nonselection_glyph\":{\"type\":\"object\",\"name\":\"Quad\",\"id\":\"p1034\",\"attributes\":{\"left\":{\"type\":\"field\",\"field\":\"left\"},\"right\":{\"type\":\"field\",\"field\":\"right\"},\"bottom\":{\"type\":\"value\",\"value\":0},\"top\":{\"type\":\"field\",\"field\":\"top\"},\"line_color\":{\"type\":\"value\",\"value\":\"#1f77b4\"},\"line_alpha\":{\"type\":\"value\",\"value\":0.1},\"fill_color\":{\"type\":\"value\",\"value\":\"#1f77b4\"},\"fill_alpha\":{\"type\":\"value\",\"value\":0.1},\"hatch_alpha\":{\"type\":\"value\",\"value\":0.1}}},\"muted_glyph\":{\"type\":\"object\",\"name\":\"Quad\",\"id\":\"p1035\",\"attributes\":{\"left\":{\"type\":\"field\",\"field\":\"left\"},\"right\":{\"type\":\"field\",\"field\":\"right\"},\"bottom\":{\"type\":\"value\",\"value\":0},\"top\":{\"type\":\"field\",\"field\":\"top\"},\"line_color\":{\"type\":\"value\",\"value\":\"#1f77b4\"},\"line_alpha\":{\"type\":\"value\",\"value\":0.2},\"fill_color\":{\"type\":\"value\",\"value\":\"#1f77b4\"},\"fill_alpha\":{\"type\":\"value\",\"value\":0.2},\"hatch_alpha\":{\"type\":\"value\",\"value\":0.2}}}}}],\"toolbar\":{\"type\":\"object\",\"name\":\"Toolbar\",\"id\":\"p1010\",\"attributes\":{\"tools\":[{\"type\":\"object\",\"name\":\"PanTool\",\"id\":\"p1023\"},{\"type\":\"object\",\"name\":\"WheelZoomTool\",\"id\":\"p1024\"},{\"type\":\"object\",\"name\":\"BoxZoomTool\",\"id\":\"p1025\",\"attributes\":{\"overlay\":{\"type\":\"object\",\"name\":\"BoxAnnotation\",\"id\":\"p1026\",\"attributes\":{\"syncable\":false,\"level\":\"overlay\",\"visible\":false,\"left_units\":\"canvas\",\"right_units\":\"canvas\",\"bottom_units\":\"canvas\",\"top_units\":\"canvas\",\"line_color\":\"black\",\"line_alpha\":1.0,\"line_width\":2,\"line_dash\":[4,4],\"fill_color\":\"lightgrey\",\"fill_alpha\":0.5}}}},{\"type\":\"object\",\"name\":\"SaveTool\",\"id\":\"p1027\"},{\"type\":\"object\",\"name\":\"ResetTool\",\"id\":\"p1028\"},{\"type\":\"object\",\"name\":\"HelpTool\",\"id\":\"p1029\"}]}},\"left\":[{\"type\":\"object\",\"name\":\"LinearAxis\",\"id\":\"p1018\",\"attributes\":{\"ticker\":{\"type\":\"object\",\"name\":\"BasicTicker\",\"id\":\"p1019\",\"attributes\":{\"mantissas\":[1,2,5]}},\"formatter\":{\"type\":\"object\",\"name\":\"BasicTickFormatter\",\"id\":\"p1020\"},\"major_label_policy\":{\"type\":\"object\",\"name\":\"AllLabels\",\"id\":\"p1021\"}}}],\"below\":[{\"type\":\"object\",\"name\":\"LinearAxis\",\"id\":\"p1013\",\"attributes\":{\"ticker\":{\"type\":\"object\",\"name\":\"BasicTicker\",\"id\":\"p1014\",\"attributes\":{\"mantissas\":[1,2,5]}},\"formatter\":{\"type\":\"object\",\"name\":\"BasicTickFormatter\",\"id\":\"p1015\"},\"major_label_policy\":{\"type\":\"object\",\"name\":\"AllLabels\",\"id\":\"p1016\"}}}],\"center\":[{\"type\":\"object\",\"name\":\"Grid\",\"id\":\"p1017\",\"attributes\":{\"axis\":{\"id\":\"p1013\"}}},{\"type\":\"object\",\"name\":\"Grid\",\"id\":\"p1022\",\"attributes\":{\"dimension\":1,\"axis\":{\"id\":\"p1018\"}}}]}}]}};\n",
              "  const render_items = [{\"docid\":\"852fb663-43f4-4212-9be1-7689bd95bc4f\",\"roots\":{\"p1001\":\"c12f4554-b50c-4356-b5c7-82322b50f34c\"},\"root_ids\":[\"p1001\"]}];\n",
              "  root.Bokeh.embed.embed_items_notebook(docs_json, render_items);\n",
              "  }\n",
              "  if (root.Bokeh !== undefined) {\n",
              "    embed_document(root);\n",
              "  } else {\n",
              "    let attempts = 0;\n",
              "    const timer = setInterval(function(root) {\n",
              "      if (root.Bokeh !== undefined) {\n",
              "        clearInterval(timer);\n",
              "        embed_document(root);\n",
              "      } else {\n",
              "        attempts++;\n",
              "        if (attempts > 100) {\n",
              "          clearInterval(timer);\n",
              "          console.log(\"Bokeh: ERROR: Unable to run BokehJS code because BokehJS library is missing\");\n",
              "        }\n",
              "      }\n",
              "    }, 10, root)\n",
              "  }\n",
              "})(window);"
            ],
            "application/vnd.bokehjs_exec.v0+json": ""
          },
          "metadata": {
            "application/vnd.bokehjs_exec.v0+json": {
              "id": "p1001"
            }
          }
        }
      ],
      "source": [
        "fig = bkplt.figure(title=\"The binomial distribution\", width=600, height=400)\n",
        "hist, edges = np.histogram(x)\n",
        "fig.quad(top=hist, bottom=0, left=edges[:-1], right=edges[1:])\n",
        "bkplt.show(fig)"
      ]
    },
    {
      "cell_type": "markdown",
      "metadata": {
        "id": "p1HcXsK1TPPf"
      },
      "source": [
        "## Accessing help documentation (docstrings)\n",
        "\n",
        "Often you'll want to get access to documentation about the packages and functions you're using. An easy way to access documentation (the docstring) for a function is to type the function name then add a question mark (?). This will cause the docstring to appear next to the notebook."
      ]
    },
    {
      "cell_type": "code",
      "execution_count": null,
      "metadata": {
        "id": "8MriYreYTaHp"
      },
      "outputs": [],
      "source": [
        "np.random.binomial?"
      ]
    },
    {
      "cell_type": "markdown",
      "metadata": {
        "id": "EvHgrWJ06xBw"
      },
      "source": [
        "You can also search the web. Most packages will have good documentation on their website. E.g., here's the online documentation for [np.random.binomial()](https://numpy.org/doc/stable/reference/random/generated/numpy.random.binomial.html)."
      ]
    },
    {
      "cell_type": "markdown",
      "metadata": {
        "id": "GZHxDB1EUFLY"
      },
      "source": [
        "## Sharing notebooks via Google Drive\n",
        "\n",
        "Finally, you can share your notebooks with colleagues to show them the results of your data analysis. Colab notebooks are stored in your Google Drive and you can share them just like any other Google doc. Click the \"share\" button at the top right to begin sharing. An easy way to share is to create a link, which you can then copy and paste to share with colleagues."
      ]
    },
    {
      "cell_type": "markdown",
      "metadata": {
        "id": "resb3397UjKI"
      },
      "source": [
        "## Practical exercises\n",
        "\n",
        "### English\n",
        "\n",
        "That's it for this module, well done for beginning your data analysis journey! When you're ready, please now try the practical exercises below.\n",
        "\n",
        "1. Go to [https://colab.research.google.com](https://colab.research.google.com) and create a new notebook.\n",
        "1. Add a code cell, type some Python code, and run (execute) the cell.\n",
        "1. Add a text cell and type some text, using markdown to format the text, e.g., bold, italic, hyperlinks, etc.\n",
        "1. Practice adding, deleting and moving cells within the notebook.\n",
        "1. Import a package (e.g., `numpy`) and call a function from that package (e.g., `numpy.random.randint()`). Hint: use `?` to display the function parameters if you can't remember them.\n",
        "1. Add a code cell which creates a pandas `DataFrame`. Hint: you can search the web for pandas code examples, and copy-paste the code into your notebook.\n",
        "1. Add a code cell which creates a matplotlib plot. Hint: try the [matplotlib examples gallery](https://matplotlib.org/stable/gallery/index.html) for some code examples to try.\n",
        "1. Add a code cell which creates a plotly plot. Hint: try the [plotly express docs](https://plotly.com/python/plotly-express/#gallery) for some code examples to try.\n",
        "1. Add a code cell which creates a bokeh plot. Hint: try the [bokeh gallery](https://docs.bokeh.org/en/latest/docs/gallery.html#standalone-examples) for some code examples to try.\n",
        "\n",
        "\n",
        "### Français\n",
        "\n",
        "C'est tout pour ce module, félicitations pour le début de votre voyage dans le monde de l'analyse des données! Quand vous êtes prêts, essayez les exercices appliqués ci-dessous.\n",
        "\n",
        "1. Se rendre sur https://colab.research.google.com et créer un nouveau notebook.\n",
        "1. Créer une nouvelle cellule de code, entrer du code Python et exécuter la cellule.\n",
        "1. Ajouter une cellule de texte et entrer du texte, utiliser le markdown pour modifier son format, par exemple en mettant en gras ou en italique certains mots ou en ajoutant un hyperlien.\n",
        "1. S'entrainer à ajouter, supprimer et déplacer les cellules.\n",
        "1. Importer un paquet (par exemple, numpy) et utiliser une fonction de ce paquet (par exemple, numpy.random.randint()). Indice: utiliser ? pour afficher les paramètres si vous les avez oubliés.\n",
        "1. Ajouter une cellule de code qui crée un DataFrame pandas. Indice: vous pouvez chercher un exemple de code pour pandas sur internet et copier-coller le code dans votre notebook.\n",
        "1. Ajouter une cellule de code qui crée un graphe matplotlib. Indice: essayer [la gallerie d'exemples matplotlib](https://matplotlib.org/stable/gallery/index.html) pour des exemples de code.\n",
        "1. Ajouter une cellule de code qui crée un graphe plotly. Indice essayer [les docs plotly express](https://plotly.com/python/plotly-express/#gallery) pour des exemples de code.\n",
        "1. Ajouter une cellule de code qui crée un graphe bokeh. Indice: essayer la [gallerie bokeh](https://docs.bokeh.org/en/latest/docs/gallery.html#standalone-examples) pour des exemples de code."
      ]
    },
    {
      "cell_type": "markdown",
      "source": [
        "**EXERCISE**"
      ],
      "metadata": {
        "id": "ppPZCyKOGVL6"
      }
    },
    {
      "cell_type": "code",
      "execution_count": 16,
      "metadata": {
        "id": "Rh5SVGvjbMI5"
      },
      "outputs": [],
      "source": [
        "gek =2"
      ]
    },
    {
      "cell_type": "code",
      "source": [
        "Feast = gek + 2\n",
        "Feast"
      ],
      "metadata": {
        "colab": {
          "base_uri": "https://localhost:8080/"
        },
        "id": "FaWYYSwBGN-H",
        "outputId": "4de277ba-4ee8-4ff8-c9fb-44d128e019d9"
      },
      "execution_count": 18,
      "outputs": [
        {
          "output_type": "execute_result",
          "data": {
            "text/plain": [
              "4"
            ]
          },
          "metadata": {},
          "execution_count": 18
        }
      ]
    },
    {
      "cell_type": "markdown",
      "source": [
        "**Interactive cloud computing** with Google Colaboratory"
      ],
      "metadata": {
        "id": "xSUSjZV7HvdM"
      }
    },
    {
      "cell_type": "code",
      "source": [
        "import matplotlib.pyplot as plt\n",
        "import numpy as np"
      ],
      "metadata": {
        "id": "8BmYZbhJcj4T"
      },
      "execution_count": 19,
      "outputs": []
    },
    {
      "cell_type": "code",
      "source": [
        "species = ('Adelie', 'Chinstrap', 'Gentoo')\n",
        "sex_counts = {\n",
        "    'Male': np.array([73, 34, 61]),\n",
        "    'Female': np.array([73, 34, 58]),\n",
        "}\n",
        "width = 0.6  # the width of the bars: can also be len(x) sequence\n",
        "\n",
        "\n",
        "fig, ax = plt.subplots()\n",
        "bottom = np.zeros(3)\n",
        "\n",
        "for sex, sex_count in sex_counts.items():\n",
        "    p = ax.bar(species, sex_count, width, label=sex, bottom=bottom)\n",
        "    bottom += sex_count\n",
        "\n",
        "    ax.bar_label(p, label_type='center')\n",
        "\n",
        "ax.set_title('Number of penguins by sex')\n",
        "ax.legend()\n",
        "\n",
        "plt.show()"
      ],
      "metadata": {
        "colab": {
          "base_uri": "https://localhost:8080/",
          "height": 452
        },
        "id": "YQ1b_iPjcozN",
        "outputId": "1ad0e827-cb29-44a6-9e2c-8bea05924758"
      },
      "execution_count": 20,
      "outputs": [
        {
          "output_type": "display_data",
          "data": {
            "text/plain": [
              "<Figure size 640x480 with 1 Axes>"
            ],
            "image/png": "[encoded data removed]"
          },
          "metadata": {}
        }
      ]
    },
    {
      "cell_type": "code",
      "source": [
        "import matplotlib.pyplot as plt\n",
        "\n",
        "# Horizontal bar plot with gaps\n",
        "fig, ax = plt.subplots()\n",
        "ax.broken_barh([(110, 30), (150, 10)], (10, 9), facecolors='tab:blue')\n",
        "ax.broken_barh([(10, 50), (100, 20), (130, 10)], (20, 9),\n",
        "               facecolors=('tab:orange', 'tab:green', 'tab:red'))\n",
        "ax.set_ylim(5, 35)\n",
        "ax.set_xlim(0, 200)\n",
        "ax.set_xlabel('seconds since start')\n",
        "ax.set_yticks([15, 25], labels=['Bill', 'Jim'])     # Modify y-axis tick labels\n",
        "ax.grid(True)                                       # Make grid lines visible\n",
        "ax.annotate('race interrupted', (61, 25),\n",
        "            xytext=(0.8, 0.9), textcoords='axes fraction',\n",
        "            arrowprops=dict(facecolor='black', shrink=0.05),\n",
        "            fontsize=16,\n",
        "            horizontalalignment='right', verticalalignment='top')\n",
        "\n",
        "plt.show()"
      ],
      "metadata": {
        "colab": {
          "base_uri": "https://localhost:8080/",
          "height": 449
        },
        "id": "PESTLbUMc8bZ",
        "outputId": "cb24a2e2-9991-4f5b-b34a-c14444b83fde"
      },
      "execution_count": 21,
      "outputs": [
        {
          "output_type": "display_data",
          "data": {
            "text/plain": [
              "<Figure size 640x480 with 1 Axes>"
            ],
            "image/png": "[encoded data removed]"
          },
          "metadata": {}
        }
      ]
    },
    {
      "cell_type": "code",
      "source": [
        "import plotly.express as px\n",
        "df = px.data.iris()\n",
        "fig = px.scatter(df, x=\"sepal_width\", y=\"sepal_length\", color=\"species\")\n",
        "fig.show()"
      ],
      "metadata": {
        "colab": {
          "base_uri": "https://localhost:8080/",
          "height": 542
        },
        "id": "C8ewDk5gdKJd",
        "outputId": "f5163743-f389-41a1-baef-9dc60533a0cb"
      },
      "execution_count": 22,
      "outputs": [
        {
          "output_type": "display_data",
          "data": {
            "text/html": [
              "<html>\n",
              "<head><meta charset=\"utf-8\" /></head>\n",
              "<body>\n",
              "    <div>            <script src=\"https://cdnjs.cloudflare.com/ajax/libs/mathjax/2.7.5/MathJax.js?config=TeX-AMS-MML_SVG\"></script><script type=\"text/javascript\">if (window.MathJax && window.MathJax.Hub && window.MathJax.Hub.Config) {window.MathJax.Hub.Config({SVG: {font: \"STIX-Web\"}});}</script>                <script type=\"text/javascript\">window.PlotlyConfig = {MathJaxConfig: 'local'};</script>\n",
              "        <script charset=\"utf-8\" src=\"https://cdn.plot.ly/plotly-2.24.1.min.js\"></script>                <div id=\"b34a9437-013a-48cf-958c-766e7b144d70\" class=\"plotly-graph-div\" style=\"height:525px; width:100%;\"></div>            <script type=\"text/javascript\">                                    window.PLOTLYENV=window.PLOTLYENV || {};                                    if (document.getElementById(\"b34a9437-013a-48cf-958c-766e7b144d70\")) {                    Plotly.newPlot(                        \"b34a9437-013a-48cf-958c-766e7b144d70\",                        [{\"hovertemplate\":\"species=setosa\\u003cbr\\u003esepal_width=%{x}\\u003cbr\\u003esepal_length=%{y}\\u003cextra\\u003e\\u003c\\u002fextra\\u003e\",\"legendgroup\":\"setosa\",\"marker\":{\"color\":\"#636efa\",\"symbol\":\"circle\"},\"mode\":\"markers\",\"name\":\"setosa\",\"orientation\":\"v\",\"showlegend\":true,\"x\":[3.5,3.0,3.2,3.1,3.6,3.9,3.4,3.4,2.9,3.1,3.7,3.4,3.0,3.0,4.0,4.4,3.9,3.5,3.8,3.8,3.4,3.7,3.6,3.3,3.4,3.0,3.4,3.5,3.4,3.2,3.1,3.4,4.1,4.2,3.1,3.2,3.5,3.1,3.0,3.4,3.5,2.3,3.2,3.5,3.8,3.0,3.8,3.2,3.7,3.3],\"xaxis\":\"x\",\"y\":[5.1,4.9,4.7,4.6,5.0,5.4,4.6,5.0,4.4,4.9,5.4,4.8,4.8,4.3,5.8,5.7,5.4,5.1,5.7,5.1,5.4,5.1,4.6,5.1,4.8,5.0,5.0,5.2,5.2,4.7,4.8,5.4,5.2,5.5,4.9,5.0,5.5,4.9,4.4,5.1,5.0,4.5,4.4,5.0,5.1,4.8,5.1,4.6,5.3,5.0],\"yaxis\":\"y\",\"type\":\"scatter\"},{\"hovertemplate\":\"species=versicolor\\u003cbr\\u003esepal_width=%{x}\\u003cbr\\u003esepal_length=%{y}\\u003cextra\\u003e\\u003c\\u002fextra\\u003e\",\"legendgroup\":\"versicolor\",\"marker\":{\"color\":\"#EF553B\",\"symbol\":\"circle\"},\"mode\":\"markers\",\"name\":\"versicolor\",\"orientation\":\"v\",\"showlegend\":true,\"x\":[3.2,3.2,3.1,2.3,2.8,2.8,3.3,2.4,2.9,2.7,2.0,3.0,2.2,2.9,2.9,3.1,3.0,2.7,2.2,2.5,3.2,2.8,2.5,2.8,2.9,3.0,2.8,3.0,2.9,2.6,2.4,2.4,2.7,2.7,3.0,3.4,3.1,2.3,3.0,2.5,2.6,3.0,2.6,2.3,2.7,3.0,2.9,2.9,2.5,2.8],\"xaxis\":\"x\",\"y\":[7.0,6.4,6.9,5.5,6.5,5.7,6.3,4.9,6.6,5.2,5.0,5.9,6.0,6.1,5.6,6.7,5.6,5.8,6.2,5.6,5.9,6.1,6.3,6.1,6.4,6.6,6.8,6.7,6.0,5.7,5.5,5.5,5.8,6.0,5.4,6.0,6.7,6.3,5.6,5.5,5.5,6.1,5.8,5.0,5.6,5.7,5.7,6.2,5.1,5.7],\"yaxis\":\"y\",\"type\":\"scatter\"},{\"hovertemplate\":\"species=virginica\\u003cbr\\u003esepal_width=%{x}\\u003cbr\\u003esepal_length=%{y}\\u003cextra\\u003e\\u003c\\u002fextra\\u003e\",\"legendgroup\":\"virginica\",\"marker\":{\"color\":\"#00cc96\",\"symbol\":\"circle\"},\"mode\":\"markers\",\"name\":\"virginica\",\"orientation\":\"v\",\"showlegend\":true,\"x\":[3.3,2.7,3.0,2.9,3.0,3.0,2.5,2.9,2.5,3.6,3.2,2.7,3.0,2.5,2.8,3.2,3.0,3.8,2.6,2.2,3.2,2.8,2.8,2.7,3.3,3.2,2.8,3.0,2.8,3.0,2.8,3.8,2.8,2.8,2.6,3.0,3.4,3.1,3.0,3.1,3.1,3.1,2.7,3.2,3.3,3.0,2.5,3.0,3.4,3.0],\"xaxis\":\"x\",\"y\":[6.3,5.8,7.1,6.3,6.5,7.6,4.9,7.3,6.7,7.2,6.5,6.4,6.8,5.7,5.8,6.4,6.5,7.7,7.7,6.0,6.9,5.6,7.7,6.3,6.7,7.2,6.2,6.1,6.4,7.2,7.4,7.9,6.4,6.3,6.1,7.7,6.3,6.4,6.0,6.9,6.7,6.9,5.8,6.8,6.7,6.7,6.3,6.5,6.2,5.9],\"yaxis\":\"y\",\"type\":\"scatter\"}],                        {\"template\":{\"data\":{\"histogram2dcontour\":[{\"type\":\"histogram2dcontour\",\"colorbar\":{\"outlinewidth\":0,\"ticks\":\"\"},\"colorscale\":[[0.0,\"#0d0887\"],[0.1111111111111111,\"#46039f\"],[0.2222222222222222,\"#7201a8\"],[0.3333333333333333,\"#9c179e\"],[0.4444444444444444,\"#bd3786\"],[0.5555555555555556,\"#d8576b\"],[0.6666666666666666,\"#ed7953\"],[0.7777777777777778,\"#fb9f3a\"],[0.8888888888888888,\"#fdca26\"],[1.0,\"#f0f921\"]]}],\"choropleth\":[{\"type\":\"choropleth\",\"colorbar\":{\"outlinewidth\":0,\"ticks\":\"\"}}],\"histogram2d\":[{\"type\":\"histogram2d\",\"colorbar\":{\"outlinewidth\":0,\"ticks\":\"\"},\"colorscale\":[[0.0,\"#0d0887\"],[0.1111111111111111,\"#46039f\"],[0.2222222222222222,\"#7201a8\"],[0.3333333333333333,\"#9c179e\"],[0.4444444444444444,\"#bd3786\"],[0.5555555555555556,\"#d8576b\"],[0.6666666666666666,\"#ed7953\"],[0.7777777777777778,\"#fb9f3a\"],[0.8888888888888888,\"#fdca26\"],[1.0,\"#f0f921\"]]}],\"heatmap\":[{\"type\":\"heatmap\",\"colorbar\":{\"outlinewidth\":0,\"ticks\":\"\"},\"colorscale\":[[0.0,\"#0d0887\"],[0.1111111111111111,\"#46039f\"],[0.2222222222222222,\"#7201a8\"],[0.3333333333333333,\"#9c179e\"],[0.4444444444444444,\"#bd3786\"],[0.5555555555555556,\"#d8576b\"],[0.6666666666666666,\"#ed7953\"],[0.7777777777777778,\"#fb9f3a\"],[0.8888888888888888,\"#fdca26\"],[1.0,\"#f0f921\"]]}],\"heatmapgl\":[{\"type\":\"heatmapgl\",\"colorbar\":{\"outlinewidth\":0,\"ticks\":\"\"},\"colorscale\":[[0.0,\"#0d0887\"],[0.1111111111111111,\"#46039f\"],[0.2222222222222222,\"#7201a8\"],[0.3333333333333333,\"#9c179e\"],[0.4444444444444444,\"#bd3786\"],[0.5555555555555556,\"#d8576b\"],[0.6666666666666666,\"#ed7953\"],[0.7777777777777778,\"#fb9f3a\"],[0.8888888888888888,\"#fdca26\"],[1.0,\"#f0f921\"]]}],\"contourcarpet\":[{\"type\":\"contourcarpet\",\"colorbar\":{\"outlinewidth\":0,\"ticks\":\"\"}}],\"contour\":[{\"type\":\"contour\",\"colorbar\":{\"outlinewidth\":0,\"ticks\":\"\"},\"colorscale\":[[0.0,\"#0d0887\"],[0.1111111111111111,\"#46039f\"],[0.2222222222222222,\"#7201a8\"],[0.3333333333333333,\"#9c179e\"],[0.4444444444444444,\"#bd3786\"],[0.5555555555555556,\"#d8576b\"],[0.6666666666666666,\"#ed7953\"],[0.7777777777777778,\"#fb9f3a\"],[0.8888888888888888,\"#fdca26\"],[1.0,\"#f0f921\"]]}],\"surface\":[{\"type\":\"surface\",\"colorbar\":{\"outlinewidth\":0,\"ticks\":\"\"},\"colorscale\":[[0.0,\"#0d0887\"],[0.1111111111111111,\"#46039f\"],[0.2222222222222222,\"#7201a8\"],[0.3333333333333333,\"#9c179e\"],[0.4444444444444444,\"#bd3786\"],[0.5555555555555556,\"#d8576b\"],[0.6666666666666666,\"#ed7953\"],[0.7777777777777778,\"#fb9f3a\"],[0.8888888888888888,\"#fdca26\"],[1.0,\"#f0f921\"]]}],\"mesh3d\":[{\"type\":\"mesh3d\",\"colorbar\":{\"outlinewidth\":0,\"ticks\":\"\"}}],\"scatter\":[{\"fillpattern\":{\"fillmode\":\"overlay\",\"size\":10,\"solidity\":0.2},\"type\":\"scatter\"}],\"parcoords\":[{\"type\":\"parcoords\",\"line\":{\"colorbar\":{\"outlinewidth\":0,\"ticks\":\"\"}}}],\"scatterpolargl\":[{\"type\":\"scatterpolargl\",\"marker\":{\"colorbar\":{\"outlinewidth\":0,\"ticks\":\"\"}}}],\"bar\":[{\"error_x\":{\"color\":\"#2a3f5f\"},\"error_y\":{\"color\":\"#2a3f5f\"},\"marker\":{\"line\":{\"color\":\"#E5ECF6\",\"width\":0.5},\"pattern\":{\"fillmode\":\"overlay\",\"size\":10,\"solidity\":0.2}},\"type\":\"bar\"}],\"scattergeo\":[{\"type\":\"scattergeo\",\"marker\":{\"colorbar\":{\"outlinewidth\":0,\"ticks\":\"\"}}}],\"scatterpolar\":[{\"type\":\"scatterpolar\",\"marker\":{\"colorbar\":{\"outlinewidth\":0,\"ticks\":\"\"}}}],\"histogram\":[{\"marker\":{\"pattern\":{\"fillmode\":\"overlay\",\"size\":10,\"solidity\":0.2}},\"type\":\"histogram\"}],\"scattergl\":[{\"type\":\"scattergl\",\"marker\":{\"colorbar\":{\"outlinewidth\":0,\"ticks\":\"\"}}}],\"scatter3d\":[{\"type\":\"scatter3d\",\"line\":{\"colorbar\":{\"outlinewidth\":0,\"ticks\":\"\"}},\"marker\":{\"colorbar\":{\"outlinewidth\":0,\"ticks\":\"\"}}}],\"scattermapbox\":[{\"type\":\"scattermapbox\",\"marker\":{\"colorbar\":{\"outlinewidth\":0,\"ticks\":\"\"}}}],\"scatterternary\":[{\"type\":\"scatterternary\",\"marker\":{\"colorbar\":{\"outlinewidth\":0,\"ticks\":\"\"}}}],\"scattercarpet\":[{\"type\":\"scattercarpet\",\"marker\":{\"colorbar\":{\"outlinewidth\":0,\"ticks\":\"\"}}}],\"carpet\":[{\"aaxis\":{\"endlinecolor\":\"#2a3f5f\",\"gridcolor\":\"white\",\"linecolor\":\"white\",\"minorgridcolor\":\"white\",\"startlinecolor\":\"#2a3f5f\"},\"baxis\":{\"endlinecolor\":\"#2a3f5f\",\"gridcolor\":\"white\",\"linecolor\":\"white\",\"minorgridcolor\":\"white\",\"startlinecolor\":\"#2a3f5f\"},\"type\":\"carpet\"}],\"table\":[{\"cells\":{\"fill\":{\"color\":\"#EBF0F8\"},\"line\":{\"color\":\"white\"}},\"header\":{\"fill\":{\"color\":\"#C8D4E3\"},\"line\":{\"color\":\"white\"}},\"type\":\"table\"}],\"barpolar\":[{\"marker\":{\"line\":{\"color\":\"#E5ECF6\",\"width\":0.5},\"pattern\":{\"fillmode\":\"overlay\",\"size\":10,\"solidity\":0.2}},\"type\":\"barpolar\"}],\"pie\":[{\"automargin\":true,\"type\":\"pie\"}]},\"layout\":{\"autotypenumbers\":\"strict\",\"colorway\":[\"#636efa\",\"#EF553B\",\"#00cc96\",\"#ab63fa\",\"#FFA15A\",\"#19d3f3\",\"#FF6692\",\"#B6E880\",\"#FF97FF\",\"#FECB52\"],\"font\":{\"color\":\"#2a3f5f\"},\"hovermode\":\"closest\",\"hoverlabel\":{\"align\":\"left\"},\"paper_bgcolor\":\"white\",\"plot_bgcolor\":\"#E5ECF6\",\"polar\":{\"bgcolor\":\"#E5ECF6\",\"angularaxis\":{\"gridcolor\":\"white\",\"linecolor\":\"white\",\"ticks\":\"\"},\"radialaxis\":{\"gridcolor\":\"white\",\"linecolor\":\"white\",\"ticks\":\"\"}},\"ternary\":{\"bgcolor\":\"#E5ECF6\",\"aaxis\":{\"gridcolor\":\"white\",\"linecolor\":\"white\",\"ticks\":\"\"},\"baxis\":{\"gridcolor\":\"white\",\"linecolor\":\"white\",\"ticks\":\"\"},\"caxis\":{\"gridcolor\":\"white\",\"linecolor\":\"white\",\"ticks\":\"\"}},\"coloraxis\":{\"colorbar\":{\"outlinewidth\":0,\"ticks\":\"\"}},\"colorscale\":{\"sequential\":[[0.0,\"#0d0887\"],[0.1111111111111111,\"#46039f\"],[0.2222222222222222,\"#7201a8\"],[0.3333333333333333,\"#9c179e\"],[0.4444444444444444,\"#bd3786\"],[0.5555555555555556,\"#d8576b\"],[0.6666666666666666,\"#ed7953\"],[0.7777777777777778,\"#fb9f3a\"],[0.8888888888888888,\"#fdca26\"],[1.0,\"#f0f921\"]],\"sequentialminus\":[[0.0,\"#0d0887\"],[0.1111111111111111,\"#46039f\"],[0.2222222222222222,\"#7201a8\"],[0.3333333333333333,\"#9c179e\"],[0.4444444444444444,\"#bd3786\"],[0.5555555555555556,\"#d8576b\"],[0.6666666666666666,\"#ed7953\"],[0.7777777777777778,\"#fb9f3a\"],[0.8888888888888888,\"#fdca26\"],[1.0,\"#f0f921\"]],\"diverging\":[[0,\"#8e0152\"],[0.1,\"#c51b7d\"],[0.2,\"#de77ae\"],[0.3,\"#f1b6da\"],[0.4,\"#fde0ef\"],[0.5,\"#f7f7f7\"],[0.6,\"#e6f5d0\"],[0.7,\"#b8e186\"],[0.8,\"#7fbc41\"],[0.9,\"#4d9221\"],[1,\"#276419\"]]},\"xaxis\":{\"gridcolor\":\"white\",\"linecolor\":\"white\",\"ticks\":\"\",\"title\":{\"standoff\":15},\"zerolinecolor\":\"white\",\"automargin\":true,\"zerolinewidth\":2},\"yaxis\":{\"gridcolor\":\"white\",\"linecolor\":\"white\",\"ticks\":\"\",\"title\":{\"standoff\":15},\"zerolinecolor\":\"white\",\"automargin\":true,\"zerolinewidth\":2},\"scene\":{\"xaxis\":{\"backgroundcolor\":\"#E5ECF6\",\"gridcolor\":\"white\",\"linecolor\":\"white\",\"showbackground\":true,\"ticks\":\"\",\"zerolinecolor\":\"white\",\"gridwidth\":2},\"yaxis\":{\"backgroundcolor\":\"#E5ECF6\",\"gridcolor\":\"white\",\"linecolor\":\"white\",\"showbackground\":true,\"ticks\":\"\",\"zerolinecolor\":\"white\",\"gridwidth\":2},\"zaxis\":{\"backgroundcolor\":\"#E5ECF6\",\"gridcolor\":\"white\",\"linecolor\":\"white\",\"showbackground\":true,\"ticks\":\"\",\"zerolinecolor\":\"white\",\"gridwidth\":2}},\"shapedefaults\":{\"line\":{\"color\":\"#2a3f5f\"}},\"annotationdefaults\":{\"arrowcolor\":\"#2a3f5f\",\"arrowhead\":0,\"arrowwidth\":1},\"geo\":{\"bgcolor\":\"white\",\"landcolor\":\"#E5ECF6\",\"subunitcolor\":\"white\",\"showland\":true,\"showlakes\":true,\"lakecolor\":\"white\"},\"title\":{\"x\":0.05},\"mapbox\":{\"style\":\"light\"}}},\"xaxis\":{\"anchor\":\"y\",\"domain\":[0.0,1.0],\"title\":{\"text\":\"sepal_width\"}},\"yaxis\":{\"anchor\":\"x\",\"domain\":[0.0,1.0],\"title\":{\"text\":\"sepal_length\"}},\"legend\":{\"title\":{\"text\":\"species\"},\"tracegroupgap\":0},\"margin\":{\"t\":60}},                        {\"responsive\": true}                    ).then(function(){\n",
              "                            \n",
              "var gd = document.getElementById('b34a9437-013a-48cf-958c-766e7b144d70');\n",
              "var x = new MutationObserver(function (mutations, observer) {{\n",
              "        var display = window.getComputedStyle(gd).display;\n",
              "        if (!display || display === 'none') {{\n",
              "            console.log([gd, 'removed!']);\n",
              "            Plotly.purge(gd);\n",
              "            observer.disconnect();\n",
              "        }}\n",
              "}});\n",
              "\n",
              "// Listen for the removal of the full notebook cells\n",
              "var notebookContainer = gd.closest('#notebook-container');\n",
              "if (notebookContainer) {{\n",
              "    x.observe(notebookContainer, {childList: true});\n",
              "}}\n",
              "\n",
              "// Listen for the clearing of the current output cell\n",
              "var outputEl = gd.closest('.output');\n",
              "if (outputEl) {{\n",
              "    x.observe(outputEl, {childList: true});\n",
              "}}\n",
              "\n",
              "                        })                };                            </script>        </div>\n",
              "</body>\n",
              "</html>"
            ]
          },
          "metadata": {}
        }
      ]
    }
  ],
  "metadata": {
    "colab": {
      "provenance": [],
      "include_colab_link": true
    },
    "kernelspec": {
      "display_name": "developer-developer-training-nb-maintenance-mgen-7.10.0",
      "language": "python",
      "name": "conda-env-developer-developer-training-nb-maintenance-mgen-7.10.0-py"
    },
    "language_info": {
      "codemirror_mode": {
        "name": "ipython",
        "version": 3
      },
      "file_extension": ".py",
      "mimetype": "text/x-python",
      "name": "python",
      "nbconvert_exporter": "python",
      "pygments_lexer": "ipython3",
      "version": "3.10.11"
    }
  },
  "nbformat": 4,
  "nbformat_minor": 0
}